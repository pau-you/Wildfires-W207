{
 "cells": [
  {
   "cell_type": "code",
   "execution_count": 1,
   "metadata": {
    "cell_id": "00000-85e93a64-d1db-48f7-9b52-85a7b6041a93",
    "colab": {
     "base_uri": "https://localhost:8080/"
    },
    "deepnote_cell_type": "code",
    "execution_millis": 4074,
    "execution_start": 1606935757453,
    "id": "uyRxHJdWNGge",
    "outputId": "614d9f7c-3a2e-403f-9844-e496e887c3bd",
    "output_cleared": false,
    "source_hash": "e62769f5"
   },
   "outputs": [],
   "source": [
    "import numpy as np\n",
    "import pandas as pd\n",
    "import regex as re\n",
    "import matplotlib as plt\n",
    "import seaborn as sns\n",
    "import folium\n",
    "from folium import plugins\n",
    "from folium.plugins import HeatMap\n",
    "pd.options.display.max_rows =12"
   ]
  },
  {
   "cell_type": "markdown",
   "metadata": {
    "cell_id": "00001-ad25aaf3-75c6-42de-be71-d4d0336303dd",
    "deepnote_cell_type": "markdown",
    "id": "YpkOhIB1mAcQ",
    "output_cleared": false
   },
   "source": [
    "# Load the Data and Sanity Check"
   ]
  },
  {
   "cell_type": "markdown",
   "metadata": {
    "cell_id": "00002-fbfb42e0-0ab3-4222-a3e7-d8c51b9619b0",
    "deepnote_cell_type": "markdown",
    "id": "mib3fRB9JPmE",
    "output_cleared": false
   },
   "source": [
    "https://www.auburn.edu/academic/forestry_wildlife/fire/weather_elements.htm\n"
   ]
  },
  {
   "cell_type": "code",
   "execution_count": 2,
   "metadata": {
    "cell_id": "00003-3e99d7b7-6d5d-4f51-a916-f448d4976661",
    "colab": {
     "base_uri": "https://localhost:8080/"
    },
    "deepnote_cell_type": "code",
    "execution_millis": 7066,
    "execution_start": 1606935761533,
    "id": "ZKohaYXDNG1s",
    "outputId": "1a2397b4-0c11-4947-afd4-9e3c52134329",
    "output_cleared": false,
    "source_hash": "3827f8c6"
   },
   "outputs": [
    {
     "name": "stderr",
     "output_type": "stream",
     "text": [
      "C:\\Users\\josht\\Anaconda3\\lib\\site-packages\\IPython\\core\\interactiveshell.py:3020: DtypeWarning: Columns (5,18,31,44,57,70,83,96,109,122,135,148,161,174,187,200,213,226,239,252,265,278,291,304,317,330,343,356,369,382,395,408,421,434,447,460,473,486,499,512,525,538,551,564,577,590,603,616,629,642,655,668,681,694,707,720,733,746,759,772,785,798,811,824,837,850,863,876,889,902,915,928,941,954,967,980,993,1006,1019,1032,1045,1058,1071,1084,1097,1110,1123,1136,1149,1162,1175,1188,1201,1214,1227,1240,1253,1266,1279,1292,1305,1318,1331,1344,1357,1370,1383,1396,1409,1422,1435,1448,1461,1474,1487,1500,1513,1526,1539,1552,1565,1578,1591,1604,1617,1630,1643,1656,1669,1682,1695,1708,1721,1734,1747,1760,1772,1784,1796,1808,1821,1834,1847,1860,1873,1886,1899,1912,1925,1938,1951,1964,1977,1990,2003,2016,2029,2044,2057,2070,2083,2096,2109,2122,2135,2148,2161,2174,2187,2200,2213,2226,2253,2266,2279,2292,2305,2318,2331,2372,2385,2398,2411,2424,2437,2450,2463,2476,2489,2502,2515,2528,2541,2554,2567,2580,2593,2606,2619,2632,2645,2658,2671,2684,2697,2710,2723,2736,2749,2762,2775,2788,2801,2814,2827,2840,2853,2866,2879,2892,2905,2918,2931,2944,2957,2970,2983,2996,3009,3022,3035,3048,3061,3074,3087,3100,3113,3126,3139,3152,3165,3178,3191,3204,3217,3230,3243,3256,3269,3282,3295,3308,3321,3334,3347,3360,3373,3386,3399,3412,3425,3438,3451,3464,3477,3490,3503,3516,3529,3542,3555,3568,3581,3594,3607,3620,3633,3646,3659,3672,3685,3698,3711,3724,3737,3750,3763,3776,3789,3802,3815,3828,3841,3854,3867,3880,3893,3906,3919,3932,3945,3958,3971,3984,3997,4010,4023,4036,4049,4062,4075,4088,4101,4114,4127,4140,4153,4194,4207,4220,4233,4246,4259,4272,4285,4298,4311,4324,4337,4350,4363,4376,4389,4402,4415,4428,4441,4454,4467,4480,4493,4506,4519,4532,4545,4558,4571,4584,4597,4610,4623,4636,4649,4662,4675,4688,4701,4714,4727,4740,4753,4766,4779,4792,4805,4818,4831,4844,4857,4870,4883,4896,4909,4922,4935,4948,4961,4974,4987,5000,5013,5026,5039,5052,5065,5078,5091,5104,5117,5130,5143,5156,5169,5182,5195,5208,5221,5234,5247,5260,5273,5286,5299,5312,5325,5338,5351,5364,5377,5390,5403,5416,5429,5442,5455,5468,5481,5494,5507,5520,5533,5546,5559,5572,5585,5598,5611,5624,5637,5650,5663,5676,5689,5702,5715,5728,5741,5754,5767,5780,5793,5806,5863,5878,5893,5908,5923,5938,5953,5968,5983,6068,6081,6108,6121,6134,6147,6204,6217,6246,6275,6290,6359,6386,6399,6412,6425,6438,6465,6478,6491,6504,6559,6572,6585,6598,6611,6624,6637,6650,6663,6676,6689,6702,6715,6728,6741,6754,6767,6780,6793,6806,6819,6832,6845,6858,6871,6884,6897,6910,6923,6936,6949,6962,6975,6988,7000,7011,7022,7034,7075,7088,7101,7114,7127,7140,7153,7166,7179,7192,7205,7218,7231,7244,7257,7270,7283,7296,7309,7322,7335,7348,7361,7374,7387,7400,7413,7426,7439,7452,7465,7478,7491,7504,7517,7530,7543,7556,7569,7582,7595,7608,7621,7634,7647,7660,7673,7686,7699,7712,7725,7738,7751,7764,7777,7790,7803,7816,7829,7842,7855,7868,7881,7894,7907,7920,7933,7946,7959,7972,7985,7998,8011,8024,8037,8050,8063,8076,8089,8102,8115,8128,8141,8154,8167,8180,8193,8206,8219,8232,8245,8258,8271,8284,8297,8310,8323,8336,8349,8362,8375,8388,8401,8414,8427,8440,8453,8466,8479,8492,8505,8518,8531,8544,8557,8570,8583,8595,8608,8621,8634,8647,8660,8673,8686,8699,8712,8725,8738,8751,8764,8777,8790,8803,8816,8829,8842,8855,8868,8881,8894,8907,8920,8933,8946,8959,8972,8985,8998,9011,9024,9037,9050,9063,9076,9089) have mixed types. Specify dtype option on import or set low_memory=False.\n",
      "  interactivity=interactivity, compiler=compiler, result=result)\n"
     ]
    }
   ],
   "source": [
    "full_events=pd.read_csv('wildfire_events_full (1).csv',error_bad_lines=False)"
   ]
  },
  {
   "cell_type": "code",
   "execution_count": 3,
   "metadata": {
    "cell_id": "00004-76c3f358-acb7-46b7-84a1-d6fbc6fb4bcf",
    "colab": {
     "base_uri": "https://localhost:8080/",
     "height": 412
    },
    "deepnote_cell_type": "code",
    "execution_millis": 19573,
    "execution_start": 1606935768644,
    "id": "9P-IkkxUQmnd",
    "outputId": "3dac5325-a872-440a-d88a-6023f3cc182a",
    "output_cleared": false,
    "source_hash": "66ba705b"
   },
   "outputs": [],
   "source": [
    "#drop row with NA in 'Size' and show pandas dataframe\n",
    "full_events = full_events.dropna(subset=['Size', 'summary_336']).drop('Costs', axis = 1)"
   ]
  },
  {
   "cell_type": "code",
   "execution_count": 4,
   "metadata": {
    "cell_id": "00005-d609f19a-7233-4c83-a533-87719a323441",
    "colab": {
     "base_uri": "https://localhost:8080/",
     "height": 412
    },
    "deepnote_cell_type": "code",
    "execution_millis": 9380,
    "execution_start": 1606935788223,
    "id": "6pOvtI7Lhvpp",
    "outputId": "3783de69-dea9-440d-c0d0-ea7a014b7bc1",
    "output_cleared": false,
    "source_hash": "52e6741c"
   },
   "outputs": [
    {
     "data": {
      "text/html": [
       "<div>\n",
       "<style scoped>\n",
       "    .dataframe tbody tr th:only-of-type {\n",
       "        vertical-align: middle;\n",
       "    }\n",
       "\n",
       "    .dataframe tbody tr th {\n",
       "        vertical-align: top;\n",
       "    }\n",
       "\n",
       "    .dataframe thead th {\n",
       "        text-align: right;\n",
       "    }\n",
       "</style>\n",
       "<table border=\"1\" class=\"dataframe\">\n",
       "  <thead>\n",
       "    <tr style=\"text-align: right;\">\n",
       "      <th></th>\n",
       "      <th>_id</th>\n",
       "      <th>Event</th>\n",
       "      <th>Latitude</th>\n",
       "      <th>Longitude</th>\n",
       "      <th>temperature_336</th>\n",
       "      <th>apparentTemperature_336</th>\n",
       "      <th>dewPoint_336</th>\n",
       "      <th>humidity_336</th>\n",
       "      <th>pressure_336</th>\n",
       "      <th>windSpeed_336</th>\n",
       "      <th>...</th>\n",
       "      <th>humidity358</th>\n",
       "      <th>pressure358</th>\n",
       "      <th>windSpeed358</th>\n",
       "      <th>temperature359</th>\n",
       "      <th>apparentTemperature359</th>\n",
       "      <th>dewPoint359</th>\n",
       "      <th>humidity359</th>\n",
       "      <th>pressure359</th>\n",
       "      <th>windSpeed359</th>\n",
       "      <th>Size</th>\n",
       "    </tr>\n",
       "  </thead>\n",
       "  <tbody>\n",
       "    <tr>\n",
       "      <th>0</th>\n",
       "      <td>ObjectId(\"5caeb38ca6e44a5b0027cc15\")</td>\n",
       "      <td>CA-CNF-000102</td>\n",
       "      <td>33.6681</td>\n",
       "      <td>-117.50139</td>\n",
       "      <td>46.87</td>\n",
       "      <td>46.87</td>\n",
       "      <td>45.21</td>\n",
       "      <td>0.94</td>\n",
       "      <td>1015.68</td>\n",
       "      <td>0.31</td>\n",
       "      <td>...</td>\n",
       "      <td>0.71</td>\n",
       "      <td>1023.04</td>\n",
       "      <td>0.49</td>\n",
       "      <td>41.75</td>\n",
       "      <td>41.75</td>\n",
       "      <td>33.32</td>\n",
       "      <td>0.72</td>\n",
       "      <td>1023.10</td>\n",
       "      <td>0.28</td>\n",
       "      <td>100.0</td>\n",
       "    </tr>\n",
       "    <tr>\n",
       "      <th>1</th>\n",
       "      <td>ObjectId(\"5caeb38ca6e44a5b0027cc16\")</td>\n",
       "      <td>CA-MVU-955</td>\n",
       "      <td>33.0333</td>\n",
       "      <td>-116.83389</td>\n",
       "      <td>42.15</td>\n",
       "      <td>42.15</td>\n",
       "      <td>16.90</td>\n",
       "      <td>0.36</td>\n",
       "      <td>1016.17</td>\n",
       "      <td>0.48</td>\n",
       "      <td>...</td>\n",
       "      <td>0.93</td>\n",
       "      <td>1015.43</td>\n",
       "      <td>0.23</td>\n",
       "      <td>46.61</td>\n",
       "      <td>46.61</td>\n",
       "      <td>44.74</td>\n",
       "      <td>0.93</td>\n",
       "      <td>1015.29</td>\n",
       "      <td>1.74</td>\n",
       "      <td>25.0</td>\n",
       "    </tr>\n",
       "    <tr>\n",
       "      <th>3</th>\n",
       "      <td>ObjectId(\"5caeb38ca6e44a5b0027cc18\")</td>\n",
       "      <td>CA-RRU-009418</td>\n",
       "      <td>33.6172</td>\n",
       "      <td>-116.15083</td>\n",
       "      <td>55.44</td>\n",
       "      <td>55.44</td>\n",
       "      <td>20.01</td>\n",
       "      <td>0.25</td>\n",
       "      <td>1014.73</td>\n",
       "      <td>7.88</td>\n",
       "      <td>...</td>\n",
       "      <td>0.39</td>\n",
       "      <td>1021.87</td>\n",
       "      <td>3.25</td>\n",
       "      <td>61.15</td>\n",
       "      <td>61.15</td>\n",
       "      <td>39.22</td>\n",
       "      <td>0.44</td>\n",
       "      <td>1022.29</td>\n",
       "      <td>3.87</td>\n",
       "      <td>15.0</td>\n",
       "    </tr>\n",
       "    <tr>\n",
       "      <th>4</th>\n",
       "      <td>ObjectId(\"5caeb38ca6e44a5b0027cc19\")</td>\n",
       "      <td>CA-RRU-10403</td>\n",
       "      <td>34.8678</td>\n",
       "      <td>-117.66306</td>\n",
       "      <td>43.39</td>\n",
       "      <td>39.90</td>\n",
       "      <td>28.43</td>\n",
       "      <td>0.55</td>\n",
       "      <td>1016.81</td>\n",
       "      <td>5.82</td>\n",
       "      <td>...</td>\n",
       "      <td>NaN</td>\n",
       "      <td>NaN</td>\n",
       "      <td>NaN</td>\n",
       "      <td>NaN</td>\n",
       "      <td>NaN</td>\n",
       "      <td>NaN</td>\n",
       "      <td>NaN</td>\n",
       "      <td>NaN</td>\n",
       "      <td>NaN</td>\n",
       "      <td>2400.0</td>\n",
       "    </tr>\n",
       "    <tr>\n",
       "      <th>5</th>\n",
       "      <td>ObjectId(\"5caeb38ca6e44a5b0027cc1a\")</td>\n",
       "      <td>CA-CDD-2100</td>\n",
       "      <td>36.0881</td>\n",
       "      <td>-116.27306</td>\n",
       "      <td>42.82</td>\n",
       "      <td>40.58</td>\n",
       "      <td>15.06</td>\n",
       "      <td>0.32</td>\n",
       "      <td>NaN</td>\n",
       "      <td>4.00</td>\n",
       "      <td>...</td>\n",
       "      <td>NaN</td>\n",
       "      <td>NaN</td>\n",
       "      <td>NaN</td>\n",
       "      <td>NaN</td>\n",
       "      <td>NaN</td>\n",
       "      <td>NaN</td>\n",
       "      <td>NaN</td>\n",
       "      <td>NaN</td>\n",
       "      <td>NaN</td>\n",
       "      <td>300.0</td>\n",
       "    </tr>\n",
       "  </tbody>\n",
       "</table>\n",
       "<p>5 rows × 4271 columns</p>\n",
       "</div>"
      ],
      "text/plain": [
       "                                    _id          Event  Latitude  Longitude  \\\n",
       "0  ObjectId(\"5caeb38ca6e44a5b0027cc15\")  CA-CNF-000102   33.6681 -117.50139   \n",
       "1  ObjectId(\"5caeb38ca6e44a5b0027cc16\")     CA-MVU-955   33.0333 -116.83389   \n",
       "3  ObjectId(\"5caeb38ca6e44a5b0027cc18\")  CA-RRU-009418   33.6172 -116.15083   \n",
       "4  ObjectId(\"5caeb38ca6e44a5b0027cc19\")   CA-RRU-10403   34.8678 -117.66306   \n",
       "5  ObjectId(\"5caeb38ca6e44a5b0027cc1a\")    CA-CDD-2100   36.0881 -116.27306   \n",
       "\n",
       "   temperature_336  apparentTemperature_336  dewPoint_336  humidity_336  \\\n",
       "0            46.87                    46.87         45.21          0.94   \n",
       "1            42.15                    42.15         16.90          0.36   \n",
       "3            55.44                    55.44         20.01          0.25   \n",
       "4            43.39                    39.90         28.43          0.55   \n",
       "5            42.82                    40.58         15.06          0.32   \n",
       "\n",
       "   pressure_336  windSpeed_336   ...    humidity358  pressure358  \\\n",
       "0       1015.68           0.31   ...           0.71      1023.04   \n",
       "1       1016.17           0.48   ...           0.93      1015.43   \n",
       "3       1014.73           7.88   ...           0.39      1021.87   \n",
       "4       1016.81           5.82   ...            NaN          NaN   \n",
       "5           NaN           4.00   ...            NaN          NaN   \n",
       "\n",
       "   windSpeed358  temperature359  apparentTemperature359  dewPoint359  \\\n",
       "0          0.49           41.75                   41.75        33.32   \n",
       "1          0.23           46.61                   46.61        44.74   \n",
       "3          3.25           61.15                   61.15        39.22   \n",
       "4           NaN             NaN                     NaN          NaN   \n",
       "5           NaN             NaN                     NaN          NaN   \n",
       "\n",
       "   humidity359  pressure359  windSpeed359    Size  \n",
       "0         0.72      1023.10          0.28   100.0  \n",
       "1         0.93      1015.29          1.74    25.0  \n",
       "3         0.44      1022.29          3.87    15.0  \n",
       "4          NaN          NaN           NaN  2400.0  \n",
       "5          NaN          NaN           NaN   300.0  \n",
       "\n",
       "[5 rows x 4271 columns]"
      ]
     },
     "execution_count": 4,
     "metadata": {},
     "output_type": "execute_result"
    }
   ],
   "source": [
    "full_events = full_events[full_events.columns.drop(list(full_events.filter(regex='windGust')))]\n",
    "full_events = full_events[full_events.columns.drop(list(full_events.filter(regex='windBearing')))]\n",
    "full_events = full_events[full_events.columns.drop(list(full_events.filter(regex='summary')))]\n",
    "full_events = full_events[full_events.columns.drop(list(full_events.filter(regex='precipType')))]\n",
    "full_events = full_events[full_events.columns.drop(list(full_events.filter(regex='visibility')))]\n",
    "full_events = full_events[full_events.columns.drop(list(full_events.filter(regex='uvIndex')))]\n",
    "full_events = full_events[full_events.columns.drop(list(full_events.filter(regex='cloudCover')))]\n",
    "\n",
    "full_events.head()"
   ]
  },
  {
   "cell_type": "code",
   "execution_count": 5,
   "metadata": {
    "cell_id": "00007-2520b897-d389-4d03-a922-58444bea0ab6",
    "deepnote_cell_type": "code",
    "execution_millis": 3,
    "execution_start": 1606935797606,
    "output_cleared": false,
    "source_hash": "425bf407",
    "tags": []
   },
   "outputs": [
    {
     "data": {
      "text/plain": [
       "(1908, 4271)"
      ]
     },
     "execution_count": 5,
     "metadata": {},
     "output_type": "execute_result"
    }
   ],
   "source": [
    "full_events.shape"
   ]
  },
  {
   "cell_type": "code",
   "execution_count": 15,
   "metadata": {
    "cell_id": "00007-20ab46f3-0531-4057-a072-421f533ba2e2",
    "deepnote_cell_type": "code",
    "execution_millis": 36,
    "execution_start": 1606935797607,
    "output_cleared": false,
    "source_hash": "9aaa839b",
    "tags": []
   },
   "outputs": [
    {
     "data": {
      "text/plain": [
       "(681, 4273)"
      ]
     },
     "execution_count": 15,
     "metadata": {},
     "output_type": "execute_result"
    }
   ],
   "source": [
    "dropped = full_events.dropna()\n",
    "dropped = dropped.reset_index(drop=True)\n",
    "dropped.shape"
   ]
  },
  {
   "cell_type": "code",
   "execution_count": 6,
   "metadata": {
    "cell_id": "00006-8a8777ca-c486-4822-9f00-987b8f5d7a01",
    "colab": {
     "base_uri": "https://localhost:8080/"
    },
    "deepnote_cell_type": "code",
    "execution_millis": 3,
    "execution_start": 1606935797608,
    "id": "IrBj1HsbFoxF",
    "outputId": "a4b0e8ef-fd34-448e-aa34-7e3f4c84b633",
    "output_cleared": false,
    "source_hash": "3af13a46"
   },
   "outputs": [
    {
     "name": "stdout",
     "output_type": "stream",
     "text": [
      "There is no duplicates in number of fires\n"
     ]
    }
   ],
   "source": [
    "#check for duplicates\n",
    "if len(full_events['Event'].unique())==len(full_events['_id'].unique()):\n",
    "  print('There is no duplicates in number of fires')\n",
    "else:\n",
    "    print('Mismatch found')"
   ]
  },
  {
   "cell_type": "markdown",
   "metadata": {
    "cell_id": "00007-0c80a77a-cef7-43b0-a62d-9460cc7b38f1",
    "deepnote_cell_type": "markdown",
    "id": "9sZ51kc-mIbc",
    "output_cleared": false
   },
   "source": [
    "## Visualization via heatmap"
   ]
  },
  {
   "cell_type": "code",
   "execution_count": 7,
   "metadata": {
    "cell_id": "00008-97425549-97eb-4375-b1c0-2f8725f42800",
    "colab": {
     "base_uri": "https://localhost:8080/",
     "height": 685
    },
    "deepnote_cell_type": "code",
    "execution_millis": 172,
    "execution_start": 1606935797609,
    "id": "wLEqYJLA9DI9",
    "is_code_hidden": true,
    "outputId": "7149c3ed-1f9f-48df-fcfe-5a7c35cd4184",
    "output_cleared": true,
    "source_hash": null
   },
   "outputs": [
    {
     "data": {
      "text/html": [
       "<div style=\"width:100%;\"><div style=\"position:relative;width:100%;height:0;padding-bottom:60%;\"><span style=\"color:#565656\">Make this Notebook Trusted to load map: File -> Trust Notebook</span><iframe src=\"about:blank\" style=\"position:absolute;width:100%;height:100%;left:0;top:0;border:none !important;\" data-html=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 onload=\"this.contentDocument.open();this.contentDocument.write(atob(this.getAttribute('data-html')));this.contentDocument.close();\" allowfullscreen webkitallowfullscreen mozallowfullscreen></iframe></div></div>"
      ],
      "text/plain": [
       "<folium.folium.Map at 0x1da1af95f98>"
      ]
     },
     "execution_count": 7,
     "metadata": {},
     "output_type": "execute_result"
    }
   ],
   "source": [
    "map = folium.Map(location=[37.7749, -122.4194],\n",
    "                    zoom_start = 8) \n",
    "\n",
    "\n",
    "full_events['Latitude'] = full_events['Latitude'].astype(float)\n",
    "full_events['Longitude'] = full_events['Longitude'].astype(float)\n",
    "\n",
    "# Filtering heatdata (displaying only above average temp)\n",
    "average_size=np.mean(full_events['Size'])\n",
    "heat_df = full_events[full_events['Size']>=average_size]\n",
    "heat_df = full_events[['Latitude', 'Longitude']]\n",
    "heat_df = heat_df.dropna(axis=0, subset=['Latitude','Longitude'])\n",
    "\n",
    "\n",
    "heat_data = [[row['Latitude'],row['Longitude']] for index, row in heat_df.iterrows()]\n",
    "\n",
    "\n",
    "HeatMap(heat_data).add_to(map)\n",
    "\n",
    "\n",
    "map"
   ]
  },
  {
   "cell_type": "markdown",
   "metadata": {
    "cell_id": "00009-39e3aba4-4c81-42d0-85d3-43301892e24e",
    "deepnote_cell_type": "markdown",
    "output_cleared": false,
    "tags": []
   },
   "source": [
    "## Data Cleaning"
   ]
  },
  {
   "cell_type": "markdown",
   "metadata": {
    "cell_id": "00012-c70cfd41-3052-4c80-a868-a1e187de14bf",
    "deepnote_cell_type": "markdown",
    "output_cleared": false,
    "tags": []
   },
   "source": [
    "### Add column with log transformation of size"
   ]
  },
  {
   "cell_type": "code",
   "execution_count": 17,
   "metadata": {
    "cell_id": "00010-b25cc76a-66e1-4393-8589-adb010bae89a",
    "colab": {
     "base_uri": "https://localhost:8080/"
    },
    "deepnote_cell_type": "code",
    "execution_millis": 44,
    "execution_start": 1606935797610,
    "id": "dkaXEc49VihC",
    "outputId": "1048f0fb-38ed-4dcd-8a12-5cbe844246bb",
    "output_cleared": false,
    "source_hash": "f966829e"
   },
   "outputs": [
    {
     "data": {
      "text/plain": [
       "0      4.605170\n",
       "1      3.218876\n",
       "2      6.733402\n",
       "3      6.793466\n",
       "4      2.708050\n",
       "5      4.605170\n",
       "         ...   \n",
       "675    9.656243\n",
       "676    8.707648\n",
       "677    6.045005\n",
       "678    7.209340\n",
       "679    5.579730\n",
       "680    8.125631\n",
       "Name: log_sizes, Length: 681, dtype: float64"
      ]
     },
     "execution_count": 17,
     "metadata": {},
     "output_type": "execute_result"
    }
   ],
   "source": [
    "#Add column of log sizes\n",
    "log_sizes = np.log(dropped.Size)\n",
    "dropped['log_sizes'] = log_sizes\n",
    "dropped['log_sizes']"
   ]
  },
  {
   "cell_type": "code",
   "execution_count": 18,
   "metadata": {
    "cell_id": "00011-3da9338a-8b8c-4cba-b0a7-bb7f5b88c202",
    "colab": {
     "base_uri": "https://localhost:8080/",
     "height": 402
    },
    "deepnote_cell_type": "code",
    "execution_millis": 255,
    "execution_start": 1606935797612,
    "id": "OmBUwmK6cIgN",
    "outputId": "baca4e1d-adfd-439f-b99e-bb04dc75e678",
    "output_cleared": false,
    "source_hash": "d0b02517"
   },
   "outputs": [
    {
     "data": {
      "text/plain": [
       "[Text(0.5, 0, 'Fire Size (log acres)'),\n",
       " Text(0.5, 1.0, 'Histogram of Fire Sizes')]"
      ]
     },
     "execution_count": 18,
     "metadata": {},
     "output_type": "execute_result"
    },
    {
     "data": {
      "image/png": "[encoded data removed]",
      "text/plain": [
       "<Figure size 432x288 with 1 Axes>"
      ]
     },
     "metadata": {
      "needs_background": "light"
     },
     "output_type": "display_data"
    }
   ],
   "source": [
    "sns.distplot(log_sizes).set(title= 'Histogram of Fire Sizes', xlabel= 'Fire Size (log acres)')"
   ]
  },
  {
   "cell_type": "markdown",
   "metadata": {
    "cell_id": "00015-cc429ab3-319e-4936-9f7c-7f704f64c9bf",
    "deepnote_cell_type": "markdown",
    "output_cleared": false,
    "tags": []
   },
   "source": [
    "### Add column with fire size labels"
   ]
  },
  {
   "cell_type": "markdown",
   "metadata": {
    "cell_id": "00019-a8b4309d-fad3-47f6-a9e5-9f962f6f0f51",
    "deepnote_cell_type": "markdown",
    "output_cleared": false,
    "tags": []
   },
   "source": [
    "As to size of wildfire:/\n",
    "Class A - one-fourth acre or less;\n",
    "Class B - more than one-fourth acre, but less than 10 acres;\n",
    "Class C - 10 acres or more, but less than 100 acres;\n",
    "Class D - 100 acres or more, but less than 300 acres;\n",
    "Class E - 300 acres or more, but less than 1,000 acres;\n",
    "Class F - 1,000 acres or more, but less than 5,000 acres;\n",
    "Class G - 5,000 acres or more.\n",
    "https://www.nwcg.gov/term/glossary/size-class-of-fire"
   ]
  },
  {
   "cell_type": "code",
   "execution_count": 19,
   "metadata": {
    "cell_id": "00021-a5d235ef-1710-4ba9-82e9-4238588b728b",
    "deepnote_cell_type": "code",
    "execution_millis": 0,
    "execution_start": 1606935797868,
    "output_cleared": false,
    "source_hash": "d9078c5e",
    "tags": []
   },
   "outputs": [],
   "source": [
    "#Run a for loop to add a label to each fire based on government classification of fire sizes\n",
    "fire_category = []\n",
    "for size in dropped.Size:\n",
    "    if float(size)<=0.25:\n",
    "        fire_category.append('class_a')\n",
    "    elif float(size) <10 and float(size) >0.25:\n",
    "        fire_category.append('class_b')\n",
    "    elif float(size) >=10 and float(size) <100:\n",
    "        fire_category.append('class_c')\n",
    "    elif float(size) >=100 and float(size) <300:\n",
    "        fire_category.append('class_d')\n",
    "    elif float(size) >= 300 and float(size) <1000:\n",
    "        fire_category.append('class_e')\n",
    "    elif float(size) >= 1000 and float(size) <5000:\n",
    "        fire_category.append('class_f')\n",
    "    elif float(size) >=5000:\n",
    "        fire_category.append('class_g') "
   ]
  },
  {
   "cell_type": "code",
   "execution_count": 20,
   "metadata": {
    "cell_id": "00021-caf01a41-916f-4385-9ed8-bca0268fcffb",
    "deepnote_cell_type": "code",
    "execution_millis": 0,
    "execution_start": 1606935797869,
    "output_cleared": false,
    "source_hash": "ec73c253",
    "tags": []
   },
   "outputs": [
    {
     "data": {
      "text/plain": [
       "0      class_d\n",
       "1      class_c\n",
       "2      class_e\n",
       "3      class_e\n",
       "4      class_c\n",
       "5      class_d\n",
       "        ...   \n",
       "675    class_g\n",
       "676    class_g\n",
       "677    class_e\n",
       "678    class_f\n",
       "679    class_d\n",
       "680    class_f\n",
       "Name: size_category, Length: 681, dtype: object"
      ]
     },
     "execution_count": 20,
     "metadata": {},
     "output_type": "execute_result"
    }
   ],
   "source": [
    "#Add column with classification of fire sizes\n",
    "dropped['size_category'] = fire_category\n",
    "dropped.size_category"
   ]
  },
  {
   "cell_type": "markdown",
   "metadata": {
    "cell_id": "00020-112f5e24-e7cd-4bb4-854b-f9b78edfb507",
    "deepnote_cell_type": "markdown",
    "output_cleared": false,
    "tags": []
   },
   "source": [
    "### Aggregate features by days"
   ]
  },
  {
   "cell_type": "code",
   "execution_count": 21,
   "metadata": {
    "cell_id": "00026-825e7209-59f1-4d6b-860a-343950b20a09",
    "deepnote_cell_type": "code",
    "execution_millis": 1449,
    "execution_start": 1606936405825,
    "output_cleared": false,
    "source_hash": "9a9b7079",
    "tags": []
   },
   "outputs": [
    {
     "name": "stderr",
     "output_type": "stream",
     "text": [
      "C:\\Users\\josht\\Anaconda3\\lib\\site-packages\\ipykernel_launcher.py:21: SettingWithCopyWarning: \n",
      "A value is trying to be set on a copy of a slice from a DataFrame.\n",
      "Try using .loc[row_indexer,col_indexer] = value instead\n",
      "\n",
      "See the caveats in the documentation: http://pandas.pydata.org/pandas-docs/stable/indexing.html#indexing-view-versus-copy\n"
     ]
    },
    {
     "data": {
      "text/html": [
       "<div>\n",
       "<style scoped>\n",
       "    .dataframe tbody tr th:only-of-type {\n",
       "        vertical-align: middle;\n",
       "    }\n",
       "\n",
       "    .dataframe tbody tr th {\n",
       "        vertical-align: top;\n",
       "    }\n",
       "\n",
       "    .dataframe thead th {\n",
       "        text-align: right;\n",
       "    }\n",
       "</style>\n",
       "<table border=\"1\" class=\"dataframe\">\n",
       "  <thead>\n",
       "    <tr style=\"text-align: right;\">\n",
       "      <th></th>\n",
       "      <th>_id</th>\n",
       "      <th>Event</th>\n",
       "      <th>Latitude</th>\n",
       "      <th>Longitude</th>\n",
       "      <th>Size</th>\n",
       "      <th>log_sizes</th>\n",
       "      <th>size_category</th>\n",
       "      <th>temperature_14</th>\n",
       "      <th>temperature_13</th>\n",
       "      <th>temperature_12</th>\n",
       "      <th>...</th>\n",
       "      <th>windSpeed5</th>\n",
       "      <th>windSpeed6</th>\n",
       "      <th>windSpeed7</th>\n",
       "      <th>windSpeed8</th>\n",
       "      <th>windSpeed9</th>\n",
       "      <th>windSpeed10</th>\n",
       "      <th>windSpeed11</th>\n",
       "      <th>windSpeed12</th>\n",
       "      <th>windSpeed13</th>\n",
       "      <th>windSpeed14</th>\n",
       "    </tr>\n",
       "  </thead>\n",
       "  <tbody>\n",
       "    <tr>\n",
       "      <th>0</th>\n",
       "      <td>ObjectId(\"5caeb38ca6e44a5b0027cc15\")</td>\n",
       "      <td>CA-CNF-000102</td>\n",
       "      <td>33.6681</td>\n",
       "      <td>-117.50139</td>\n",
       "      <td>100.0</td>\n",
       "      <td>4.605170</td>\n",
       "      <td>class_d</td>\n",
       "      <td>48.221250</td>\n",
       "      <td>52.325833</td>\n",
       "      <td>55.353750</td>\n",
       "      <td>...</td>\n",
       "      <td>3.646667</td>\n",
       "      <td>2.427500</td>\n",
       "      <td>4.275833</td>\n",
       "      <td>1.949583</td>\n",
       "      <td>2.096250</td>\n",
       "      <td>1.935833</td>\n",
       "      <td>1.428750</td>\n",
       "      <td>2.269583</td>\n",
       "      <td>1.633333</td>\n",
       "      <td>1.618333</td>\n",
       "    </tr>\n",
       "    <tr>\n",
       "      <th>1</th>\n",
       "      <td>ObjectId(\"5caeb38ca6e44a5b0027cc16\")</td>\n",
       "      <td>CA-MVU-955</td>\n",
       "      <td>33.0333</td>\n",
       "      <td>-116.83389</td>\n",
       "      <td>25.0</td>\n",
       "      <td>3.218876</td>\n",
       "      <td>class_c</td>\n",
       "      <td>48.305833</td>\n",
       "      <td>46.069583</td>\n",
       "      <td>44.835417</td>\n",
       "      <td>...</td>\n",
       "      <td>1.526667</td>\n",
       "      <td>1.640417</td>\n",
       "      <td>1.833333</td>\n",
       "      <td>5.261250</td>\n",
       "      <td>4.941250</td>\n",
       "      <td>1.846250</td>\n",
       "      <td>2.011250</td>\n",
       "      <td>7.476250</td>\n",
       "      <td>5.292083</td>\n",
       "      <td>2.992083</td>\n",
       "    </tr>\n",
       "    <tr>\n",
       "      <th>2</th>\n",
       "      <td>ObjectId(\"5caeb38ca6e44a5b0027cc1b\")</td>\n",
       "      <td>CA-BDU-2403</td>\n",
       "      <td>37.3683</td>\n",
       "      <td>-118.35833</td>\n",
       "      <td>840.0</td>\n",
       "      <td>6.733402</td>\n",
       "      <td>class_e</td>\n",
       "      <td>40.872500</td>\n",
       "      <td>41.335833</td>\n",
       "      <td>49.464583</td>\n",
       "      <td>...</td>\n",
       "      <td>3.337500</td>\n",
       "      <td>2.846250</td>\n",
       "      <td>5.654583</td>\n",
       "      <td>4.394583</td>\n",
       "      <td>2.933750</td>\n",
       "      <td>2.271250</td>\n",
       "      <td>2.413333</td>\n",
       "      <td>2.819167</td>\n",
       "      <td>5.687500</td>\n",
       "      <td>6.950417</td>\n",
       "    </tr>\n",
       "    <tr>\n",
       "      <th>3</th>\n",
       "      <td>ObjectId(\"5caeb38ca6e44a5b0027cc27\")</td>\n",
       "      <td>CA-RRU-29527</td>\n",
       "      <td>33.8692</td>\n",
       "      <td>-117.68361</td>\n",
       "      <td>892.0</td>\n",
       "      <td>6.793466</td>\n",
       "      <td>class_e</td>\n",
       "      <td>55.987500</td>\n",
       "      <td>59.727083</td>\n",
       "      <td>60.797917</td>\n",
       "      <td>...</td>\n",
       "      <td>5.224583</td>\n",
       "      <td>4.270417</td>\n",
       "      <td>2.530000</td>\n",
       "      <td>4.327917</td>\n",
       "      <td>5.611250</td>\n",
       "      <td>3.257917</td>\n",
       "      <td>3.257083</td>\n",
       "      <td>3.121667</td>\n",
       "      <td>2.863750</td>\n",
       "      <td>2.850417</td>\n",
       "    </tr>\n",
       "    <tr>\n",
       "      <th>4</th>\n",
       "      <td>ObjectId(\"5caeb38ca6e44a5b0027cc2c\")</td>\n",
       "      <td>CA-MVU-003100</td>\n",
       "      <td>32.8689</td>\n",
       "      <td>-116.86667</td>\n",
       "      <td>15.0</td>\n",
       "      <td>2.708050</td>\n",
       "      <td>class_c</td>\n",
       "      <td>54.468750</td>\n",
       "      <td>53.435833</td>\n",
       "      <td>55.019167</td>\n",
       "      <td>...</td>\n",
       "      <td>3.899167</td>\n",
       "      <td>4.002500</td>\n",
       "      <td>3.761667</td>\n",
       "      <td>6.027083</td>\n",
       "      <td>3.868333</td>\n",
       "      <td>2.800000</td>\n",
       "      <td>3.557500</td>\n",
       "      <td>3.774583</td>\n",
       "      <td>4.250417</td>\n",
       "      <td>3.922083</td>\n",
       "    </tr>\n",
       "  </tbody>\n",
       "</table>\n",
       "<p>5 rows × 181 columns</p>\n",
       "</div>"
      ],
      "text/plain": [
       "                                    _id          Event  Latitude  Longitude  \\\n",
       "0  ObjectId(\"5caeb38ca6e44a5b0027cc15\")  CA-CNF-000102   33.6681 -117.50139   \n",
       "1  ObjectId(\"5caeb38ca6e44a5b0027cc16\")     CA-MVU-955   33.0333 -116.83389   \n",
       "2  ObjectId(\"5caeb38ca6e44a5b0027cc1b\")    CA-BDU-2403   37.3683 -118.35833   \n",
       "3  ObjectId(\"5caeb38ca6e44a5b0027cc27\")   CA-RRU-29527   33.8692 -117.68361   \n",
       "4  ObjectId(\"5caeb38ca6e44a5b0027cc2c\")  CA-MVU-003100   32.8689 -116.86667   \n",
       "\n",
       "    Size  log_sizes size_category  temperature_14  temperature_13  \\\n",
       "0  100.0   4.605170       class_d       48.221250       52.325833   \n",
       "1   25.0   3.218876       class_c       48.305833       46.069583   \n",
       "2  840.0   6.733402       class_e       40.872500       41.335833   \n",
       "3  892.0   6.793466       class_e       55.987500       59.727083   \n",
       "4   15.0   2.708050       class_c       54.468750       53.435833   \n",
       "\n",
       "   temperature_12     ...       windSpeed5  windSpeed6  windSpeed7  \\\n",
       "0       55.353750     ...         3.646667    2.427500    4.275833   \n",
       "1       44.835417     ...         1.526667    1.640417    1.833333   \n",
       "2       49.464583     ...         3.337500    2.846250    5.654583   \n",
       "3       60.797917     ...         5.224583    4.270417    2.530000   \n",
       "4       55.019167     ...         3.899167    4.002500    3.761667   \n",
       "\n",
       "   windSpeed8  windSpeed9  windSpeed10  windSpeed11  windSpeed12  windSpeed13  \\\n",
       "0    1.949583    2.096250     1.935833     1.428750     2.269583     1.633333   \n",
       "1    5.261250    4.941250     1.846250     2.011250     7.476250     5.292083   \n",
       "2    4.394583    2.933750     2.271250     2.413333     2.819167     5.687500   \n",
       "3    4.327917    5.611250     3.257917     3.257083     3.121667     2.863750   \n",
       "4    6.027083    3.868333     2.800000     3.557500     3.774583     4.250417   \n",
       "\n",
       "   windSpeed14  \n",
       "0     1.618333  \n",
       "1     2.992083  \n",
       "2     6.950417  \n",
       "3     2.850417  \n",
       "4     3.922083  \n",
       "\n",
       "[5 rows x 181 columns]"
      ]
     },
     "execution_count": 21,
     "metadata": {},
     "output_type": "execute_result"
    }
   ],
   "source": [
    "#Create a list of features (might use this string for a future for loop or a function -josh)\n",
    "features = ['temperature', 'apparentTemperature', 'dewPoint', 'humidity', 'pressure', 'windSpeed']\n",
    "\n",
    "#first create intervals to combine data between certain hours\n",
    "bins = np.arange(0, 697, 24)\n",
    "\n",
    "cleaned_df = dropped[['_id','Event', 'Latitude','Longitude','Size','log_sizes','size_category']]\n",
    "\n",
    "#Create a list of strings that marks each day to add to the word 'temperature'\n",
    "days = ['_14','_13', '_12', '_11', '_10', '_9', '_8', '_7', '_6', '_5', '_4', '_3', '_2', '_1',\n",
    "'0', '1', '2', '3','4','5','6','7','8','9','10','11','12','13','14']\n",
    "\n",
    "for feature in features:\n",
    "    feature_by_day = [] #empty list to store all info for each day\n",
    "    for i in np.arange(len(bins)-1):\n",
    "        feature_df = dropped.filter(regex=feature)\n",
    "        feature_daily_avg = np.array(feature_df.iloc[:, bins[i]:bins[i+1]].mean(axis=1))\n",
    "        feature_by_day.append(feature_daily_avg)\n",
    "        for j in np.arange(len(feature_by_day)):\n",
    "            word = feature + days[j]\n",
    "            cleaned_df[word] = feature_by_day[j]\n",
    "cleaned_df.head()"
   ]
  },
  {
   "cell_type": "code",
   "execution_count": 22,
   "metadata": {
    "cell_id": "00023-a9f71651-586c-49d7-823e-8545059df4b4",
    "deepnote_cell_type": "code",
    "execution_millis": 0,
    "execution_start": 1606938007373,
    "output_cleared": false,
    "source_hash": "796200d5",
    "tags": []
   },
   "outputs": [
    {
     "data": {
      "text/plain": [
       "(681, 181)"
      ]
     },
     "execution_count": 22,
     "metadata": {},
     "output_type": "execute_result"
    }
   ],
   "source": [
    "cleaned_df.shape"
   ]
  },
  {
   "cell_type": "code",
   "execution_count": 25,
   "metadata": {
    "cell_id": "00028-7d145a28-34f1-45fa-8552-12ff8823f680",
    "deepnote_cell_type": "code",
    "execution_millis": 192,
    "execution_start": 1606938285325,
    "output_cleared": false,
    "source_hash": "f8600cc2",
    "tags": []
   },
   "outputs": [],
   "source": [
    "cleaned_df.to_csv('cleaned_wildfire_data.csv')"
   ]
  },
  {
   "cell_type": "code",
   "execution_count": null,
   "metadata": {},
   "outputs": [],
   "source": []
  }
 ],
 "metadata": {
  "colab": {
   "collapsed_sections": [],
   "name": "Wildfire Project.ipynb",
   "provenance": []
  },
  "deepnote_execution_queue": [],
  "deepnote_notebook_id": "f3452fb6-bde0-455f-aa72-32680a8cdbb2",
  "kernelspec": {
   "display_name": "Python 3",
   "language": "python",
   "name": "python3"
  },
  "language_info": {
   "codemirror_mode": {
    "name": "ipython",
    "version": 3
   },
   "file_extension": ".py",
   "mimetype": "text/x-python",
   "name": "python",
   "nbconvert_exporter": "python",
   "pygments_lexer": "ipython3",
   "version": "3.7.1"
  }
 },
 "nbformat": 4,
 "nbformat_minor": 1
}
