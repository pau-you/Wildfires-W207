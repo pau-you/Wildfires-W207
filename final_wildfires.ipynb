{
 "cells": [
  {
   "cell_type": "code",
   "execution_count": 3,
   "metadata": {
    "cell_id": "00000-a7c2d964-7635-4c73-99ad-cbcd123fd259",
    "deepnote_cell_type": "code",
    "execution_millis": 719,
    "execution_start": 1606940438694,
    "output_cleared": false,
    "source_hash": "1118cb40",
    "tags": []
   },
   "outputs": [],
   "source": [
    "%%capture\n",
    "# This tells matplotlib not to try opening a new window for each plot.\n",
    "%matplotlib inline\n",
    "\n",
    "# General libraries.\n",
    "import numpy as np\n",
    "import pandas as pd\n",
    "import matplotlib.pyplot as plt\n",
    "import seaborn as sns\n",
    "\n",
    "# SK-learn libraries for learning.\n",
    "from sklearn.decomposition import PCA\n",
    "from sklearn.cluster import KMeans\n",
    "from sklearn.mixture import GaussianMixture\n",
    "from matplotlib.colors import LogNorm\n",
    "from sklearn.neighbors import KNeighborsClassifier\n",
    "from sklearn.linear_model import LogisticRegression\n",
    "from sklearn.naive_bayes import BernoulliNB\n",
    "from sklearn.naive_bayes import MultinomialNB\n",
    "\n",
    "# SK-learn libraries for evaluation.\n",
    "from sklearn.metrics import confusion_matrix\n",
    "from sklearn import metrics\n",
    "from sklearn.metrics import classification_report\n",
    "from sklearn.metrics import f1_score\n",
    "! pip install turicreate"
   ]
  },
  {
   "cell_type": "code",
   "execution_count": null,
   "metadata": {},
   "outputs": [],
   "source": []
  },
  {
   "cell_type": "markdown",
   "metadata": {
    "cell_id": "00001-6f733046-4421-4c87-bd14-52c0d75cd32d",
    "deepnote_cell_type": "markdown",
    "tags": []
   },
   "source": [
    "## Import Data"
   ]
  },
  {
   "cell_type": "code",
   "execution_count": 4,
   "metadata": {
    "cell_id": "00001-2a1ad5b9-4548-43d5-9a4c-ce82a2cafbc5",
    "deepnote_cell_type": "code",
    "execution_millis": 435,
    "execution_start": 1606940564476,
    "output_cleared": false,
    "source_hash": "51677f11",
    "tags": []
   },
   "outputs": [
    {
     "data": {
      "text/html": [
       "<div>\n",
       "<style scoped>\n",
       "    .dataframe tbody tr th:only-of-type {\n",
       "        vertical-align: middle;\n",
       "    }\n",
       "\n",
       "    .dataframe tbody tr th {\n",
       "        vertical-align: top;\n",
       "    }\n",
       "\n",
       "    .dataframe thead th {\n",
       "        text-align: right;\n",
       "    }\n",
       "</style>\n",
       "<table border=\"1\" class=\"dataframe\">\n",
       "  <thead>\n",
       "    <tr style=\"text-align: right;\">\n",
       "      <th></th>\n",
       "      <th>Latitude</th>\n",
       "      <th>Longitude</th>\n",
       "      <th>Size</th>\n",
       "      <th>log_sizes</th>\n",
       "      <th>size_category</th>\n",
       "      <th>temperature_14</th>\n",
       "      <th>temperature_13</th>\n",
       "      <th>temperature_12</th>\n",
       "      <th>temperature_11</th>\n",
       "      <th>temperature_10</th>\n",
       "      <th>...</th>\n",
       "      <th>windSpeed5</th>\n",
       "      <th>windSpeed6</th>\n",
       "      <th>windSpeed7</th>\n",
       "      <th>windSpeed8</th>\n",
       "      <th>windSpeed9</th>\n",
       "      <th>windSpeed10</th>\n",
       "      <th>windSpeed11</th>\n",
       "      <th>windSpeed12</th>\n",
       "      <th>windSpeed13</th>\n",
       "      <th>windSpeed14</th>\n",
       "    </tr>\n",
       "  </thead>\n",
       "  <tbody>\n",
       "    <tr>\n",
       "      <th>0</th>\n",
       "      <td>33.6681</td>\n",
       "      <td>-117.50139</td>\n",
       "      <td>100.0</td>\n",
       "      <td>4.605170</td>\n",
       "      <td>class_d</td>\n",
       "      <td>48.221250</td>\n",
       "      <td>52.325833</td>\n",
       "      <td>55.353750</td>\n",
       "      <td>52.667083</td>\n",
       "      <td>48.797917</td>\n",
       "      <td>...</td>\n",
       "      <td>3.646667</td>\n",
       "      <td>2.427500</td>\n",
       "      <td>4.275833</td>\n",
       "      <td>1.949583</td>\n",
       "      <td>2.096250</td>\n",
       "      <td>1.935833</td>\n",
       "      <td>1.428750</td>\n",
       "      <td>2.269583</td>\n",
       "      <td>1.633333</td>\n",
       "      <td>1.618333</td>\n",
       "    </tr>\n",
       "    <tr>\n",
       "      <th>1</th>\n",
       "      <td>33.0333</td>\n",
       "      <td>-116.83389</td>\n",
       "      <td>25.0</td>\n",
       "      <td>3.218876</td>\n",
       "      <td>class_c</td>\n",
       "      <td>48.305833</td>\n",
       "      <td>46.069583</td>\n",
       "      <td>44.835417</td>\n",
       "      <td>39.776667</td>\n",
       "      <td>37.474167</td>\n",
       "      <td>...</td>\n",
       "      <td>1.526667</td>\n",
       "      <td>1.640417</td>\n",
       "      <td>1.833333</td>\n",
       "      <td>5.261250</td>\n",
       "      <td>4.941250</td>\n",
       "      <td>1.846250</td>\n",
       "      <td>2.011250</td>\n",
       "      <td>7.476250</td>\n",
       "      <td>5.292083</td>\n",
       "      <td>2.992083</td>\n",
       "    </tr>\n",
       "    <tr>\n",
       "      <th>2</th>\n",
       "      <td>37.3683</td>\n",
       "      <td>-118.35833</td>\n",
       "      <td>840.0</td>\n",
       "      <td>6.733402</td>\n",
       "      <td>class_e</td>\n",
       "      <td>40.872500</td>\n",
       "      <td>41.335833</td>\n",
       "      <td>49.464583</td>\n",
       "      <td>50.744583</td>\n",
       "      <td>55.579167</td>\n",
       "      <td>...</td>\n",
       "      <td>3.337500</td>\n",
       "      <td>2.846250</td>\n",
       "      <td>5.654583</td>\n",
       "      <td>4.394583</td>\n",
       "      <td>2.933750</td>\n",
       "      <td>2.271250</td>\n",
       "      <td>2.413333</td>\n",
       "      <td>2.819167</td>\n",
       "      <td>5.687500</td>\n",
       "      <td>6.950417</td>\n",
       "    </tr>\n",
       "    <tr>\n",
       "      <th>3</th>\n",
       "      <td>33.8692</td>\n",
       "      <td>-117.68361</td>\n",
       "      <td>892.0</td>\n",
       "      <td>6.793466</td>\n",
       "      <td>class_e</td>\n",
       "      <td>55.987500</td>\n",
       "      <td>59.727083</td>\n",
       "      <td>60.797917</td>\n",
       "      <td>62.654167</td>\n",
       "      <td>64.841250</td>\n",
       "      <td>...</td>\n",
       "      <td>5.224583</td>\n",
       "      <td>4.270417</td>\n",
       "      <td>2.530000</td>\n",
       "      <td>4.327917</td>\n",
       "      <td>5.611250</td>\n",
       "      <td>3.257917</td>\n",
       "      <td>3.257083</td>\n",
       "      <td>3.121667</td>\n",
       "      <td>2.863750</td>\n",
       "      <td>2.850417</td>\n",
       "    </tr>\n",
       "    <tr>\n",
       "      <th>4</th>\n",
       "      <td>32.8689</td>\n",
       "      <td>-116.86667</td>\n",
       "      <td>15.0</td>\n",
       "      <td>2.708050</td>\n",
       "      <td>class_c</td>\n",
       "      <td>54.468750</td>\n",
       "      <td>53.435833</td>\n",
       "      <td>55.019167</td>\n",
       "      <td>58.447083</td>\n",
       "      <td>62.486667</td>\n",
       "      <td>...</td>\n",
       "      <td>3.899167</td>\n",
       "      <td>4.002500</td>\n",
       "      <td>3.761667</td>\n",
       "      <td>6.027083</td>\n",
       "      <td>3.868333</td>\n",
       "      <td>2.800000</td>\n",
       "      <td>3.557500</td>\n",
       "      <td>3.774583</td>\n",
       "      <td>4.250417</td>\n",
       "      <td>3.922083</td>\n",
       "    </tr>\n",
       "  </tbody>\n",
       "</table>\n",
       "<p>5 rows × 179 columns</p>\n",
       "</div>"
      ],
      "text/plain": [
       "   Latitude  Longitude   Size  log_sizes size_category  temperature_14  \\\n",
       "0   33.6681 -117.50139  100.0   4.605170       class_d       48.221250   \n",
       "1   33.0333 -116.83389   25.0   3.218876       class_c       48.305833   \n",
       "2   37.3683 -118.35833  840.0   6.733402       class_e       40.872500   \n",
       "3   33.8692 -117.68361  892.0   6.793466       class_e       55.987500   \n",
       "4   32.8689 -116.86667   15.0   2.708050       class_c       54.468750   \n",
       "\n",
       "   temperature_13  temperature_12  temperature_11  temperature_10  ...  \\\n",
       "0       52.325833       55.353750       52.667083       48.797917  ...   \n",
       "1       46.069583       44.835417       39.776667       37.474167  ...   \n",
       "2       41.335833       49.464583       50.744583       55.579167  ...   \n",
       "3       59.727083       60.797917       62.654167       64.841250  ...   \n",
       "4       53.435833       55.019167       58.447083       62.486667  ...   \n",
       "\n",
       "   windSpeed5  windSpeed6  windSpeed7  windSpeed8  windSpeed9  windSpeed10  \\\n",
       "0    3.646667    2.427500    4.275833    1.949583    2.096250     1.935833   \n",
       "1    1.526667    1.640417    1.833333    5.261250    4.941250     1.846250   \n",
       "2    3.337500    2.846250    5.654583    4.394583    2.933750     2.271250   \n",
       "3    5.224583    4.270417    2.530000    4.327917    5.611250     3.257917   \n",
       "4    3.899167    4.002500    3.761667    6.027083    3.868333     2.800000   \n",
       "\n",
       "   windSpeed11  windSpeed12  windSpeed13  windSpeed14  \n",
       "0     1.428750     2.269583     1.633333     1.618333  \n",
       "1     2.011250     7.476250     5.292083     2.992083  \n",
       "2     2.413333     2.819167     5.687500     6.950417  \n",
       "3     3.257083     3.121667     2.863750     2.850417  \n",
       "4     3.557500     3.774583     4.250417     3.922083  \n",
       "\n",
       "[5 rows x 179 columns]"
      ]
     },
     "execution_count": 4,
     "metadata": {},
     "output_type": "execute_result"
    }
   ],
   "source": [
    "cleaned_df=pd.read_csv('cleaned_wildfire_data.csv').drop(['Unnamed: 0','_id','Event'],axis=1)\n",
    "cleaned_df.head()"
   ]
  },
  {
   "cell_type": "code",
   "execution_count": 5,
   "metadata": {
    "cell_id": "00003-ebe6a6d1-b221-4de8-8da7-38ffc6a0944c",
    "deepnote_cell_type": "code",
    "execution_millis": 0,
    "execution_start": 1606940624650,
    "output_cleared": false,
    "source_hash": "daff085a",
    "tags": []
   },
   "outputs": [],
   "source": [
    "#Split data into X's (features) and Y's (labels)\n",
    "X= cleaned_df.drop(columns='size_category')\n",
    "y= cleaned_df['size_category']"
   ]
  },
  {
   "cell_type": "code",
   "execution_count": 6,
   "metadata": {},
   "outputs": [
    {
     "data": {
      "text/plain": [
       "681"
      ]
     },
     "execution_count": 6,
     "metadata": {},
     "output_type": "execute_result"
    }
   ],
   "source": [
    "len(X)"
   ]
  },
  {
   "cell_type": "code",
   "execution_count": 7,
   "metadata": {},
   "outputs": [
    {
     "data": {
      "text/plain": [
       "681"
      ]
     },
     "execution_count": 7,
     "metadata": {},
     "output_type": "execute_result"
    }
   ],
   "source": [
    "len(y)"
   ]
  },
  {
   "cell_type": "code",
   "execution_count": 8,
   "metadata": {},
   "outputs": [],
   "source": [
    "train_d, dev_d, test_d = np.split(X.sample(frac=1, random_state=42), [int(.6*len(X)), int(.8*len(X))])\n"
   ]
  },
  {
   "cell_type": "code",
   "execution_count": 9,
   "metadata": {
    "cell_id": "00006-0d9326c6-260c-41a6-ab73-6e4f8067912d",
    "deepnote_cell_type": "code",
    "execution_millis": 326,
    "execution_start": 1606940626365,
    "output_cleared": false,
    "scrolled": true,
    "source_hash": "7c234d23",
    "tags": []
   },
   "outputs": [
    {
     "data": {
      "text/html": [
       "<div>\n",
       "<style scoped>\n",
       "    .dataframe tbody tr th:only-of-type {\n",
       "        vertical-align: middle;\n",
       "    }\n",
       "\n",
       "    .dataframe tbody tr th {\n",
       "        vertical-align: top;\n",
       "    }\n",
       "\n",
       "    .dataframe thead th {\n",
       "        text-align: right;\n",
       "    }\n",
       "</style>\n",
       "<table border=\"1\" class=\"dataframe\">\n",
       "  <thead>\n",
       "    <tr style=\"text-align: right;\">\n",
       "      <th></th>\n",
       "      <th>Latitude</th>\n",
       "      <th>Longitude</th>\n",
       "      <th>Size</th>\n",
       "      <th>log_sizes</th>\n",
       "      <th>temperature_14</th>\n",
       "      <th>temperature_13</th>\n",
       "      <th>temperature_12</th>\n",
       "      <th>temperature_11</th>\n",
       "      <th>temperature_10</th>\n",
       "      <th>temperature_9</th>\n",
       "      <th>...</th>\n",
       "      <th>windSpeed5</th>\n",
       "      <th>windSpeed6</th>\n",
       "      <th>windSpeed7</th>\n",
       "      <th>windSpeed8</th>\n",
       "      <th>windSpeed9</th>\n",
       "      <th>windSpeed10</th>\n",
       "      <th>windSpeed11</th>\n",
       "      <th>windSpeed12</th>\n",
       "      <th>windSpeed13</th>\n",
       "      <th>windSpeed14</th>\n",
       "    </tr>\n",
       "  </thead>\n",
       "  <tbody>\n",
       "    <tr>\n",
       "      <th>648</th>\n",
       "      <td>33.68194</td>\n",
       "      <td>-117.39972</td>\n",
       "      <td>188.0</td>\n",
       "      <td>5.236442</td>\n",
       "      <td>73.776667</td>\n",
       "      <td>73.557917</td>\n",
       "      <td>74.040000</td>\n",
       "      <td>73.537917</td>\n",
       "      <td>72.351250</td>\n",
       "      <td>73.099167</td>\n",
       "      <td>...</td>\n",
       "      <td>2.262500</td>\n",
       "      <td>2.112500</td>\n",
       "      <td>1.738333</td>\n",
       "      <td>1.844167</td>\n",
       "      <td>1.837500</td>\n",
       "      <td>1.867083</td>\n",
       "      <td>2.002083</td>\n",
       "      <td>1.996250</td>\n",
       "      <td>1.927917</td>\n",
       "      <td>2.248333</td>\n",
       "    </tr>\n",
       "    <tr>\n",
       "      <th>296</th>\n",
       "      <td>34.31100</td>\n",
       "      <td>-117.32200</td>\n",
       "      <td>4100.0</td>\n",
       "      <td>8.318742</td>\n",
       "      <td>64.466667</td>\n",
       "      <td>57.216250</td>\n",
       "      <td>55.025000</td>\n",
       "      <td>50.965417</td>\n",
       "      <td>47.996667</td>\n",
       "      <td>55.321250</td>\n",
       "      <td>...</td>\n",
       "      <td>1.065833</td>\n",
       "      <td>1.405833</td>\n",
       "      <td>2.002500</td>\n",
       "      <td>2.440417</td>\n",
       "      <td>2.578333</td>\n",
       "      <td>2.952917</td>\n",
       "      <td>2.266667</td>\n",
       "      <td>4.623750</td>\n",
       "      <td>2.554167</td>\n",
       "      <td>2.536250</td>\n",
       "    </tr>\n",
       "    <tr>\n",
       "      <th>63</th>\n",
       "      <td>36.68390</td>\n",
       "      <td>-119.21611</td>\n",
       "      <td>150.0</td>\n",
       "      <td>5.010635</td>\n",
       "      <td>87.258333</td>\n",
       "      <td>87.747917</td>\n",
       "      <td>84.630417</td>\n",
       "      <td>81.019167</td>\n",
       "      <td>80.775000</td>\n",
       "      <td>81.937500</td>\n",
       "      <td>...</td>\n",
       "      <td>2.191667</td>\n",
       "      <td>1.915000</td>\n",
       "      <td>1.138333</td>\n",
       "      <td>1.995833</td>\n",
       "      <td>1.856250</td>\n",
       "      <td>1.873750</td>\n",
       "      <td>1.972083</td>\n",
       "      <td>1.659583</td>\n",
       "      <td>2.586667</td>\n",
       "      <td>2.278750</td>\n",
       "    </tr>\n",
       "    <tr>\n",
       "      <th>320</th>\n",
       "      <td>34.77900</td>\n",
       "      <td>-120.09000</td>\n",
       "      <td>25000.0</td>\n",
       "      <td>10.126631</td>\n",
       "      <td>59.758750</td>\n",
       "      <td>61.035417</td>\n",
       "      <td>62.762083</td>\n",
       "      <td>60.147500</td>\n",
       "      <td>58.266250</td>\n",
       "      <td>60.171250</td>\n",
       "      <td>...</td>\n",
       "      <td>2.471250</td>\n",
       "      <td>1.929167</td>\n",
       "      <td>2.868333</td>\n",
       "      <td>2.996250</td>\n",
       "      <td>2.430833</td>\n",
       "      <td>2.020833</td>\n",
       "      <td>2.118750</td>\n",
       "      <td>2.981250</td>\n",
       "      <td>2.673333</td>\n",
       "      <td>2.871667</td>\n",
       "    </tr>\n",
       "    <tr>\n",
       "      <th>101</th>\n",
       "      <td>33.44360</td>\n",
       "      <td>-117.42389</td>\n",
       "      <td>200.0</td>\n",
       "      <td>5.298317</td>\n",
       "      <td>66.606250</td>\n",
       "      <td>64.455833</td>\n",
       "      <td>65.207917</td>\n",
       "      <td>65.526667</td>\n",
       "      <td>65.628333</td>\n",
       "      <td>64.033750</td>\n",
       "      <td>...</td>\n",
       "      <td>1.880000</td>\n",
       "      <td>2.130833</td>\n",
       "      <td>2.150417</td>\n",
       "      <td>2.744167</td>\n",
       "      <td>1.798750</td>\n",
       "      <td>1.590000</td>\n",
       "      <td>1.427917</td>\n",
       "      <td>1.802083</td>\n",
       "      <td>1.683750</td>\n",
       "      <td>1.746250</td>\n",
       "    </tr>\n",
       "  </tbody>\n",
       "</table>\n",
       "<p>5 rows × 178 columns</p>\n",
       "</div>"
      ],
      "text/plain": [
       "     Latitude  Longitude     Size  log_sizes  temperature_14  temperature_13  \\\n",
       "648  33.68194 -117.39972    188.0   5.236442       73.776667       73.557917   \n",
       "296  34.31100 -117.32200   4100.0   8.318742       64.466667       57.216250   \n",
       "63   36.68390 -119.21611    150.0   5.010635       87.258333       87.747917   \n",
       "320  34.77900 -120.09000  25000.0  10.126631       59.758750       61.035417   \n",
       "101  33.44360 -117.42389    200.0   5.298317       66.606250       64.455833   \n",
       "\n",
       "     temperature_12  temperature_11  temperature_10  temperature_9  ...  \\\n",
       "648       74.040000       73.537917       72.351250      73.099167  ...   \n",
       "296       55.025000       50.965417       47.996667      55.321250  ...   \n",
       "63        84.630417       81.019167       80.775000      81.937500  ...   \n",
       "320       62.762083       60.147500       58.266250      60.171250  ...   \n",
       "101       65.207917       65.526667       65.628333      64.033750  ...   \n",
       "\n",
       "     windSpeed5  windSpeed6  windSpeed7  windSpeed8  windSpeed9  windSpeed10  \\\n",
       "648    2.262500    2.112500    1.738333    1.844167    1.837500     1.867083   \n",
       "296    1.065833    1.405833    2.002500    2.440417    2.578333     2.952917   \n",
       "63     2.191667    1.915000    1.138333    1.995833    1.856250     1.873750   \n",
       "320    2.471250    1.929167    2.868333    2.996250    2.430833     2.020833   \n",
       "101    1.880000    2.130833    2.150417    2.744167    1.798750     1.590000   \n",
       "\n",
       "     windSpeed11  windSpeed12  windSpeed13  windSpeed14  \n",
       "648     2.002083     1.996250     1.927917     2.248333  \n",
       "296     2.266667     4.623750     2.554167     2.536250  \n",
       "63      1.972083     1.659583     2.586667     2.278750  \n",
       "320     2.118750     2.981250     2.673333     2.871667  \n",
       "101     1.427917     1.802083     1.683750     1.746250  \n",
       "\n",
       "[5 rows x 178 columns]"
      ]
     },
     "execution_count": 9,
     "metadata": {},
     "output_type": "execute_result"
    }
   ],
   "source": [
    "train_d.head()"
   ]
  },
  {
   "cell_type": "code",
   "execution_count": 10,
   "metadata": {
    "cell_id": "00006-64731328-6210-47c5-90a1-c3cce0f6e705",
    "deepnote_cell_type": "code",
    "execution_millis": 388,
    "execution_start": 1606938824968,
    "output_cleared": false,
    "source_hash": "42ff169f",
    "tags": []
   },
   "outputs": [],
   "source": [
    "train_l, dev_l, test_l = np.split(y.sample(frac=1, random_state=42), [int(.6*len(y)), int(.8*len(y))])\n"
   ]
  },
  {
   "cell_type": "code",
   "execution_count": 11,
   "metadata": {
    "cell_id": "00008-c02c4245-b285-4639-980f-c79be9f6e4ec",
    "deepnote_cell_type": "code",
    "scrolled": true,
    "tags": []
   },
   "outputs": [
    {
     "data": {
      "text/plain": [
       "648    class_d\n",
       "296    class_f\n",
       "63     class_d\n",
       "320    class_g\n",
       "101    class_d\n",
       "Name: size_category, dtype: object"
      ]
     },
     "execution_count": 11,
     "metadata": {},
     "output_type": "execute_result"
    }
   ],
   "source": [
    "train_l.head()"
   ]
  },
  {
   "cell_type": "code",
   "execution_count": 12,
   "metadata": {},
   "outputs": [],
   "source": [
    "train_data = train_d.reset_index(drop=True)\n",
    "test_data = test_d.reset_index(drop=True)\n",
    "train_labels = train_l.reset_index(drop=True)\n",
    "test_labels = test_l.reset_index(drop=True)\n",
    "dev_data = dev_d.reset_index(drop=True)\n",
    "dev_labels = dev_l.reset_index(drop=True)"
   ]
  },
  {
   "cell_type": "code",
   "execution_count": 13,
   "metadata": {},
   "outputs": [
    {
     "data": {
      "text/html": [
       "<div>\n",
       "<style scoped>\n",
       "    .dataframe tbody tr th:only-of-type {\n",
       "        vertical-align: middle;\n",
       "    }\n",
       "\n",
       "    .dataframe tbody tr th {\n",
       "        vertical-align: top;\n",
       "    }\n",
       "\n",
       "    .dataframe thead th {\n",
       "        text-align: right;\n",
       "    }\n",
       "</style>\n",
       "<table border=\"1\" class=\"dataframe\">\n",
       "  <thead>\n",
       "    <tr style=\"text-align: right;\">\n",
       "      <th></th>\n",
       "      <th>Latitude</th>\n",
       "      <th>Longitude</th>\n",
       "      <th>Size</th>\n",
       "      <th>log_sizes</th>\n",
       "      <th>temperature_14</th>\n",
       "      <th>temperature_13</th>\n",
       "      <th>temperature_12</th>\n",
       "      <th>temperature_11</th>\n",
       "      <th>temperature_10</th>\n",
       "      <th>temperature_9</th>\n",
       "      <th>...</th>\n",
       "      <th>windSpeed5</th>\n",
       "      <th>windSpeed6</th>\n",
       "      <th>windSpeed7</th>\n",
       "      <th>windSpeed8</th>\n",
       "      <th>windSpeed9</th>\n",
       "      <th>windSpeed10</th>\n",
       "      <th>windSpeed11</th>\n",
       "      <th>windSpeed12</th>\n",
       "      <th>windSpeed13</th>\n",
       "      <th>windSpeed14</th>\n",
       "    </tr>\n",
       "  </thead>\n",
       "  <tbody>\n",
       "    <tr>\n",
       "      <th>0</th>\n",
       "      <td>33.68194</td>\n",
       "      <td>-117.39972</td>\n",
       "      <td>188.0</td>\n",
       "      <td>5.236442</td>\n",
       "      <td>73.776667</td>\n",
       "      <td>73.557917</td>\n",
       "      <td>74.040000</td>\n",
       "      <td>73.537917</td>\n",
       "      <td>72.351250</td>\n",
       "      <td>73.099167</td>\n",
       "      <td>...</td>\n",
       "      <td>2.262500</td>\n",
       "      <td>2.112500</td>\n",
       "      <td>1.738333</td>\n",
       "      <td>1.844167</td>\n",
       "      <td>1.837500</td>\n",
       "      <td>1.867083</td>\n",
       "      <td>2.002083</td>\n",
       "      <td>1.996250</td>\n",
       "      <td>1.927917</td>\n",
       "      <td>2.248333</td>\n",
       "    </tr>\n",
       "    <tr>\n",
       "      <th>1</th>\n",
       "      <td>34.31100</td>\n",
       "      <td>-117.32200</td>\n",
       "      <td>4100.0</td>\n",
       "      <td>8.318742</td>\n",
       "      <td>64.466667</td>\n",
       "      <td>57.216250</td>\n",
       "      <td>55.025000</td>\n",
       "      <td>50.965417</td>\n",
       "      <td>47.996667</td>\n",
       "      <td>55.321250</td>\n",
       "      <td>...</td>\n",
       "      <td>1.065833</td>\n",
       "      <td>1.405833</td>\n",
       "      <td>2.002500</td>\n",
       "      <td>2.440417</td>\n",
       "      <td>2.578333</td>\n",
       "      <td>2.952917</td>\n",
       "      <td>2.266667</td>\n",
       "      <td>4.623750</td>\n",
       "      <td>2.554167</td>\n",
       "      <td>2.536250</td>\n",
       "    </tr>\n",
       "    <tr>\n",
       "      <th>2</th>\n",
       "      <td>36.68390</td>\n",
       "      <td>-119.21611</td>\n",
       "      <td>150.0</td>\n",
       "      <td>5.010635</td>\n",
       "      <td>87.258333</td>\n",
       "      <td>87.747917</td>\n",
       "      <td>84.630417</td>\n",
       "      <td>81.019167</td>\n",
       "      <td>80.775000</td>\n",
       "      <td>81.937500</td>\n",
       "      <td>...</td>\n",
       "      <td>2.191667</td>\n",
       "      <td>1.915000</td>\n",
       "      <td>1.138333</td>\n",
       "      <td>1.995833</td>\n",
       "      <td>1.856250</td>\n",
       "      <td>1.873750</td>\n",
       "      <td>1.972083</td>\n",
       "      <td>1.659583</td>\n",
       "      <td>2.586667</td>\n",
       "      <td>2.278750</td>\n",
       "    </tr>\n",
       "    <tr>\n",
       "      <th>3</th>\n",
       "      <td>34.77900</td>\n",
       "      <td>-120.09000</td>\n",
       "      <td>25000.0</td>\n",
       "      <td>10.126631</td>\n",
       "      <td>59.758750</td>\n",
       "      <td>61.035417</td>\n",
       "      <td>62.762083</td>\n",
       "      <td>60.147500</td>\n",
       "      <td>58.266250</td>\n",
       "      <td>60.171250</td>\n",
       "      <td>...</td>\n",
       "      <td>2.471250</td>\n",
       "      <td>1.929167</td>\n",
       "      <td>2.868333</td>\n",
       "      <td>2.996250</td>\n",
       "      <td>2.430833</td>\n",
       "      <td>2.020833</td>\n",
       "      <td>2.118750</td>\n",
       "      <td>2.981250</td>\n",
       "      <td>2.673333</td>\n",
       "      <td>2.871667</td>\n",
       "    </tr>\n",
       "    <tr>\n",
       "      <th>4</th>\n",
       "      <td>33.44360</td>\n",
       "      <td>-117.42389</td>\n",
       "      <td>200.0</td>\n",
       "      <td>5.298317</td>\n",
       "      <td>66.606250</td>\n",
       "      <td>64.455833</td>\n",
       "      <td>65.207917</td>\n",
       "      <td>65.526667</td>\n",
       "      <td>65.628333</td>\n",
       "      <td>64.033750</td>\n",
       "      <td>...</td>\n",
       "      <td>1.880000</td>\n",
       "      <td>2.130833</td>\n",
       "      <td>2.150417</td>\n",
       "      <td>2.744167</td>\n",
       "      <td>1.798750</td>\n",
       "      <td>1.590000</td>\n",
       "      <td>1.427917</td>\n",
       "      <td>1.802083</td>\n",
       "      <td>1.683750</td>\n",
       "      <td>1.746250</td>\n",
       "    </tr>\n",
       "  </tbody>\n",
       "</table>\n",
       "<p>5 rows × 178 columns</p>\n",
       "</div>"
      ],
      "text/plain": [
       "   Latitude  Longitude     Size  log_sizes  temperature_14  temperature_13  \\\n",
       "0  33.68194 -117.39972    188.0   5.236442       73.776667       73.557917   \n",
       "1  34.31100 -117.32200   4100.0   8.318742       64.466667       57.216250   \n",
       "2  36.68390 -119.21611    150.0   5.010635       87.258333       87.747917   \n",
       "3  34.77900 -120.09000  25000.0  10.126631       59.758750       61.035417   \n",
       "4  33.44360 -117.42389    200.0   5.298317       66.606250       64.455833   \n",
       "\n",
       "   temperature_12  temperature_11  temperature_10  temperature_9  ...  \\\n",
       "0       74.040000       73.537917       72.351250      73.099167  ...   \n",
       "1       55.025000       50.965417       47.996667      55.321250  ...   \n",
       "2       84.630417       81.019167       80.775000      81.937500  ...   \n",
       "3       62.762083       60.147500       58.266250      60.171250  ...   \n",
       "4       65.207917       65.526667       65.628333      64.033750  ...   \n",
       "\n",
       "   windSpeed5  windSpeed6  windSpeed7  windSpeed8  windSpeed9  windSpeed10  \\\n",
       "0    2.262500    2.112500    1.738333    1.844167    1.837500     1.867083   \n",
       "1    1.065833    1.405833    2.002500    2.440417    2.578333     2.952917   \n",
       "2    2.191667    1.915000    1.138333    1.995833    1.856250     1.873750   \n",
       "3    2.471250    1.929167    2.868333    2.996250    2.430833     2.020833   \n",
       "4    1.880000    2.130833    2.150417    2.744167    1.798750     1.590000   \n",
       "\n",
       "   windSpeed11  windSpeed12  windSpeed13  windSpeed14  \n",
       "0     2.002083     1.996250     1.927917     2.248333  \n",
       "1     2.266667     4.623750     2.554167     2.536250  \n",
       "2     1.972083     1.659583     2.586667     2.278750  \n",
       "3     2.118750     2.981250     2.673333     2.871667  \n",
       "4     1.427917     1.802083     1.683750     1.746250  \n",
       "\n",
       "[5 rows x 178 columns]"
      ]
     },
     "execution_count": 13,
     "metadata": {},
     "output_type": "execute_result"
    }
   ],
   "source": [
    "train_data.head()"
   ]
  },
  {
   "cell_type": "markdown",
   "metadata": {
    "cell_id": "00009-9b5f3e21-fcdc-4d5f-aad0-b3deaddee3c8",
    "deepnote_cell_type": "markdown",
    "tags": []
   },
   "source": [
    "Model:\\\n",
    "1) Naive Bayes (Pan)\\\n",
    "    -Bernoulli\n",
    "    -Multinomial\n",
    "2) k-nn & K-means (Pauline)\n",
    "3) Gaussian and PCA (Hannah)\n",
    "4) Logistic Regression (Cisco)\n",
    "5) Linear Regression (Josh) (optional)\n",
    "\n"
   ]
  },
  {
   "cell_type": "markdown",
   "metadata": {
    "cell_id": "00010-fe7586df-dd82-455d-9dff-c7f5528cd9b1",
    "deepnote_cell_type": "markdown",
    "tags": []
   },
   "source": []
  },
  {
   "cell_type": "markdown",
   "metadata": {
    "cell_id": "00010-eaff7a8b-3bd5-4dd1-953e-49482f0f9378",
    "deepnote_cell_type": "markdown",
    "tags": []
   },
   "source": []
  },
  {
   "cell_type": "code",
   "execution_count": 19,
   "metadata": {},
   "outputs": [
    {
     "data": {
      "text/html": [
       "<pre>Finished parsing file /Users/zhengfanpan/Documents/GitHub/Wildfires-W207/cleaned_wildfire_data.csv</pre>"
      ],
      "text/plain": [
       "Finished parsing file /Users/zhengfanpan/Documents/GitHub/Wildfires-W207/cleaned_wildfire_data.csv"
      ]
     },
     "metadata": {},
     "output_type": "display_data"
    },
    {
     "data": {
      "text/html": [
       "<pre>Parsing completed. Parsed 100 lines in 0.040419 secs.</pre>"
      ],
      "text/plain": [
       "Parsing completed. Parsed 100 lines in 0.040419 secs."
      ]
     },
     "metadata": {},
     "output_type": "display_data"
    },
    {
     "name": "stdout",
     "output_type": "stream",
     "text": [
      "------------------------------------------------------\n",
      "Inferred types from first 100 line(s) of file as \n",
      "column_type_hints=[int,str,str,float,float,float,float,str,float,float,float,float,float,float,float,float,float,float,float,float,float,float,float,float,float,float,float,float,float,float,float,float,float,float,float,float,float,float,float,float,float,float,float,float,float,float,float,float,float,float,float,float,float,float,float,float,float,float,float,float,float,float,float,float,float,float,float,float,float,float,float,float,float,float,float,float,float,float,float,float,float,float,float,float,float,float,float,float,float,float,float,float,float,float,float,float,float,float,float,float,float,float,float,float,float,float,float,float,float,float,float,float,float,float,float,float,float,float,float,float,float,float,float,float,float,float,float,float,float,float,float,float,float,float,float,float,float,float,float,float,float,float,float,float,float,float,float,float,float,float,float,float,float,float,float,float,float,float,float,float,float,float,float,float,float,float,float,float,float,float,float,float,float,float,float,float,float,float,float,float,float,float]\n",
      "If parsing fails due to incorrect types, you can correct\n",
      "the inferred type list above and pass it to read_csv in\n",
      "the column_type_hints argument\n",
      "------------------------------------------------------\n"
     ]
    },
    {
     "data": {
      "text/html": [
       "<pre>Finished parsing file /Users/zhengfanpan/Documents/GitHub/Wildfires-W207/cleaned_wildfire_data.csv</pre>"
      ],
      "text/plain": [
       "Finished parsing file /Users/zhengfanpan/Documents/GitHub/Wildfires-W207/cleaned_wildfire_data.csv"
      ]
     },
     "metadata": {},
     "output_type": "display_data"
    },
    {
     "data": {
      "text/html": [
       "<pre>Parsing completed. Parsed 681 lines in 0.01627 secs.</pre>"
      ],
      "text/plain": [
       "Parsing completed. Parsed 681 lines in 0.01627 secs."
      ]
     },
     "metadata": {},
     "output_type": "display_data"
    },
    {
     "name": "stdout",
     "output_type": "stream",
     "text": [
      "PROGRESS: Creating a validation set from 5 percent of training data. This may take a while.\n",
      "          You can set ``validation_set=None`` to disable validation tracking.\n",
      "\n",
      "PROGRESS: The following methods are available for this type of problem.\n",
      "PROGRESS: BoostedTreesClassifier, RandomForestClassifier, DecisionTreeClassifier, LogisticClassifier\n",
      "PROGRESS: The returned model will be chosen according to validation accuracy.\n"
     ]
    },
    {
     "data": {
      "text/html": [
       "<pre>Boosted trees classifier:</pre>"
      ],
      "text/plain": [
       "Boosted trees classifier:"
      ]
     },
     "metadata": {},
     "output_type": "display_data"
    },
    {
     "data": {
      "text/html": [
       "<pre>--------------------------------------------------------</pre>"
      ],
      "text/plain": [
       "--------------------------------------------------------"
      ]
     },
     "metadata": {},
     "output_type": "display_data"
    },
    {
     "data": {
      "text/html": [
       "<pre>Number of examples          : 517</pre>"
      ],
      "text/plain": [
       "Number of examples          : 517"
      ]
     },
     "metadata": {},
     "output_type": "display_data"
    },
    {
     "data": {
      "text/html": [
       "<pre>Number of classes           : 6</pre>"
      ],
      "text/plain": [
       "Number of classes           : 6"
      ]
     },
     "metadata": {},
     "output_type": "display_data"
    },
    {
     "data": {
      "text/html": [
       "<pre>Number of feature columns   : 176</pre>"
      ],
      "text/plain": [
       "Number of feature columns   : 176"
      ]
     },
     "metadata": {},
     "output_type": "display_data"
    },
    {
     "data": {
      "text/html": [
       "<pre>Number of unpacked features : 176</pre>"
      ],
      "text/plain": [
       "Number of unpacked features : 176"
      ]
     },
     "metadata": {},
     "output_type": "display_data"
    },
    {
     "data": {
      "text/html": [
       "<pre>+-----------+--------------+-------------------+---------------------+-------------------+---------------------+</pre>"
      ],
      "text/plain": [
       "+-----------+--------------+-------------------+---------------------+-------------------+---------------------+"
      ]
     },
     "metadata": {},
     "output_type": "display_data"
    },
    {
     "data": {
      "text/html": [
       "<pre>| Iteration | Elapsed Time | Training Accuracy | Validation Accuracy | Training Log Loss | Validation Log Loss |</pre>"
      ],
      "text/plain": [
       "| Iteration | Elapsed Time | Training Accuracy | Validation Accuracy | Training Log Loss | Validation Log Loss |"
      ]
     },
     "metadata": {},
     "output_type": "display_data"
    },
    {
     "data": {
      "text/html": [
       "<pre>+-----------+--------------+-------------------+---------------------+-------------------+---------------------+</pre>"
      ],
      "text/plain": [
       "+-----------+--------------+-------------------+---------------------+-------------------+---------------------+"
      ]
     },
     "metadata": {},
     "output_type": "display_data"
    },
    {
     "data": {
      "text/html": [
       "<pre>| 1         | 0.034442     | 0.829787          | 0.250000            | 1.384948          | 1.805208            |</pre>"
      ],
      "text/plain": [
       "| 1         | 0.034442     | 0.829787          | 0.250000            | 1.384948          | 1.805208            |"
      ]
     },
     "metadata": {},
     "output_type": "display_data"
    },
    {
     "data": {
      "text/html": [
       "<pre>| 2         | 0.066209     | 0.903288          | 0.214286            | 1.122842          | 1.795897            |</pre>"
      ],
      "text/plain": [
       "| 2         | 0.066209     | 0.903288          | 0.214286            | 1.122842          | 1.795897            |"
      ]
     },
     "metadata": {},
     "output_type": "display_data"
    },
    {
     "data": {
      "text/html": [
       "<pre>| 3         | 0.095677     | 0.941973          | 0.250000            | 0.916249          | 1.759905            |</pre>"
      ],
      "text/plain": [
       "| 3         | 0.095677     | 0.941973          | 0.250000            | 0.916249          | 1.759905            |"
      ]
     },
     "metadata": {},
     "output_type": "display_data"
    },
    {
     "data": {
      "text/html": [
       "<pre>| 4         | 0.124441     | 0.961315          | 0.214286            | 0.754067          | 1.761859            |</pre>"
      ],
      "text/plain": [
       "| 4         | 0.124441     | 0.961315          | 0.214286            | 0.754067          | 1.761859            |"
      ]
     },
     "metadata": {},
     "output_type": "display_data"
    },
    {
     "data": {
      "text/html": [
       "<pre>| 5         | 0.154687     | 0.984526          | 0.250000            | 0.608032          | 1.753625            |</pre>"
      ],
      "text/plain": [
       "| 5         | 0.154687     | 0.984526          | 0.250000            | 0.608032          | 1.753625            |"
      ]
     },
     "metadata": {},
     "output_type": "display_data"
    },
    {
     "data": {
      "text/html": [
       "<pre>| 10        | 0.287173     | 0.998066          | 0.285714            | 0.258534          | 1.775587            |</pre>"
      ],
      "text/plain": [
       "| 10        | 0.287173     | 0.998066          | 0.285714            | 0.258534          | 1.775587            |"
      ]
     },
     "metadata": {},
     "output_type": "display_data"
    },
    {
     "data": {
      "text/html": [
       "<pre>+-----------+--------------+-------------------+---------------------+-------------------+---------------------+</pre>"
      ],
      "text/plain": [
       "+-----------+--------------+-------------------+---------------------+-------------------+---------------------+"
      ]
     },
     "metadata": {},
     "output_type": "display_data"
    },
    {
     "data": {
      "text/html": [
       "<pre>Random forest classifier:</pre>"
      ],
      "text/plain": [
       "Random forest classifier:"
      ]
     },
     "metadata": {},
     "output_type": "display_data"
    },
    {
     "data": {
      "text/html": [
       "<pre>--------------------------------------------------------</pre>"
      ],
      "text/plain": [
       "--------------------------------------------------------"
      ]
     },
     "metadata": {},
     "output_type": "display_data"
    },
    {
     "data": {
      "text/html": [
       "<pre>Number of examples          : 517</pre>"
      ],
      "text/plain": [
       "Number of examples          : 517"
      ]
     },
     "metadata": {},
     "output_type": "display_data"
    },
    {
     "data": {
      "text/html": [
       "<pre>Number of classes           : 6</pre>"
      ],
      "text/plain": [
       "Number of classes           : 6"
      ]
     },
     "metadata": {},
     "output_type": "display_data"
    },
    {
     "data": {
      "text/html": [
       "<pre>Number of feature columns   : 176</pre>"
      ],
      "text/plain": [
       "Number of feature columns   : 176"
      ]
     },
     "metadata": {},
     "output_type": "display_data"
    },
    {
     "data": {
      "text/html": [
       "<pre>Number of unpacked features : 176</pre>"
      ],
      "text/plain": [
       "Number of unpacked features : 176"
      ]
     },
     "metadata": {},
     "output_type": "display_data"
    },
    {
     "data": {
      "text/html": [
       "<pre>+-----------+--------------+-------------------+---------------------+-------------------+---------------------+</pre>"
      ],
      "text/plain": [
       "+-----------+--------------+-------------------+---------------------+-------------------+---------------------+"
      ]
     },
     "metadata": {},
     "output_type": "display_data"
    },
    {
     "data": {
      "text/html": [
       "<pre>| Iteration | Elapsed Time | Training Accuracy | Validation Accuracy | Training Log Loss | Validation Log Loss |</pre>"
      ],
      "text/plain": [
       "| Iteration | Elapsed Time | Training Accuracy | Validation Accuracy | Training Log Loss | Validation Log Loss |"
      ]
     },
     "metadata": {},
     "output_type": "display_data"
    },
    {
     "data": {
      "text/html": [
       "<pre>+-----------+--------------+-------------------+---------------------+-------------------+---------------------+</pre>"
      ],
      "text/plain": [
       "+-----------+--------------+-------------------+---------------------+-------------------+---------------------+"
      ]
     },
     "metadata": {},
     "output_type": "display_data"
    },
    {
     "data": {
      "text/html": [
       "<pre>| 1         | 0.031025     | 0.738878          | 0.178571            | 0.930010          | 2.265943            |</pre>"
      ],
      "text/plain": [
       "| 1         | 0.031025     | 0.738878          | 0.178571            | 0.930010          | 2.265943            |"
      ]
     },
     "metadata": {},
     "output_type": "display_data"
    },
    {
     "data": {
      "text/html": [
       "<pre>| 2         | 0.058171     | 0.839458          | 0.214286            | 0.853865          | 1.889296            |</pre>"
      ],
      "text/plain": [
       "| 2         | 0.058171     | 0.839458          | 0.214286            | 0.853865          | 1.889296            |"
      ]
     },
     "metadata": {},
     "output_type": "display_data"
    },
    {
     "data": {
      "text/html": [
       "<pre>| 3         | 0.083648     | 0.883946          | 0.250000            | 0.818881          | 1.805556            |</pre>"
      ],
      "text/plain": [
       "| 3         | 0.083648     | 0.883946          | 0.250000            | 0.818881          | 1.805556            |"
      ]
     },
     "metadata": {},
     "output_type": "display_data"
    },
    {
     "data": {
      "text/html": [
       "<pre>| 4         | 0.110871     | 0.912959          | 0.250000            | 0.792478          | 1.788842            |</pre>"
      ],
      "text/plain": [
       "| 4         | 0.110871     | 0.912959          | 0.250000            | 0.792478          | 1.788842            |"
      ]
     },
     "metadata": {},
     "output_type": "display_data"
    },
    {
     "data": {
      "text/html": [
       "<pre>| 5         | 0.136724     | 0.916828          | 0.250000            | 0.793518          | 1.748888            |</pre>"
      ],
      "text/plain": [
       "| 5         | 0.136724     | 0.916828          | 0.250000            | 0.793518          | 1.748888            |"
      ]
     },
     "metadata": {},
     "output_type": "display_data"
    },
    {
     "data": {
      "text/html": [
       "<pre>| 10        | 0.257050     | 0.926499          | 0.178571            | 0.778055          | 1.722185            |</pre>"
      ],
      "text/plain": [
       "| 10        | 0.257050     | 0.926499          | 0.178571            | 0.778055          | 1.722185            |"
      ]
     },
     "metadata": {},
     "output_type": "display_data"
    },
    {
     "data": {
      "text/html": [
       "<pre>+-----------+--------------+-------------------+---------------------+-------------------+---------------------+</pre>"
      ],
      "text/plain": [
       "+-----------+--------------+-------------------+---------------------+-------------------+---------------------+"
      ]
     },
     "metadata": {},
     "output_type": "display_data"
    },
    {
     "data": {
      "text/html": [
       "<pre>Decision tree classifier:</pre>"
      ],
      "text/plain": [
       "Decision tree classifier:"
      ]
     },
     "metadata": {},
     "output_type": "display_data"
    },
    {
     "data": {
      "text/html": [
       "<pre>--------------------------------------------------------</pre>"
      ],
      "text/plain": [
       "--------------------------------------------------------"
      ]
     },
     "metadata": {},
     "output_type": "display_data"
    },
    {
     "data": {
      "text/html": [
       "<pre>Number of examples          : 517</pre>"
      ],
      "text/plain": [
       "Number of examples          : 517"
      ]
     },
     "metadata": {},
     "output_type": "display_data"
    },
    {
     "data": {
      "text/html": [
       "<pre>Number of classes           : 6</pre>"
      ],
      "text/plain": [
       "Number of classes           : 6"
      ]
     },
     "metadata": {},
     "output_type": "display_data"
    },
    {
     "data": {
      "text/html": [
       "<pre>Number of feature columns   : 176</pre>"
      ],
      "text/plain": [
       "Number of feature columns   : 176"
      ]
     },
     "metadata": {},
     "output_type": "display_data"
    },
    {
     "data": {
      "text/html": [
       "<pre>Number of unpacked features : 176</pre>"
      ],
      "text/plain": [
       "Number of unpacked features : 176"
      ]
     },
     "metadata": {},
     "output_type": "display_data"
    },
    {
     "data": {
      "text/html": [
       "<pre>+-----------+--------------+-------------------+---------------------+-------------------+---------------------+</pre>"
      ],
      "text/plain": [
       "+-----------+--------------+-------------------+---------------------+-------------------+---------------------+"
      ]
     },
     "metadata": {},
     "output_type": "display_data"
    },
    {
     "data": {
      "text/html": [
       "<pre>| Iteration | Elapsed Time | Training Accuracy | Validation Accuracy | Training Log Loss | Validation Log Loss |</pre>"
      ],
      "text/plain": [
       "| Iteration | Elapsed Time | Training Accuracy | Validation Accuracy | Training Log Loss | Validation Log Loss |"
      ]
     },
     "metadata": {},
     "output_type": "display_data"
    },
    {
     "data": {
      "text/html": [
       "<pre>+-----------+--------------+-------------------+---------------------+-------------------+---------------------+</pre>"
      ],
      "text/plain": [
       "+-----------+--------------+-------------------+---------------------+-------------------+---------------------+"
      ]
     },
     "metadata": {},
     "output_type": "display_data"
    },
    {
     "data": {
      "text/html": [
       "<pre>| 1         | 0.035630     | 0.829787          | 0.250000            | 0.766158          | 2.078482            |</pre>"
      ],
      "text/plain": [
       "| 1         | 0.035630     | 0.829787          | 0.250000            | 0.766158          | 2.078482            |"
      ]
     },
     "metadata": {},
     "output_type": "display_data"
    },
    {
     "data": {
      "text/html": [
       "<pre>+-----------+--------------+-------------------+---------------------+-------------------+---------------------+</pre>"
      ],
      "text/plain": [
       "+-----------+--------------+-------------------+---------------------+-------------------+---------------------+"
      ]
     },
     "metadata": {},
     "output_type": "display_data"
    },
    {
     "data": {
      "text/html": [
       "<pre>Logistic regression:</pre>"
      ],
      "text/plain": [
       "Logistic regression:"
      ]
     },
     "metadata": {},
     "output_type": "display_data"
    },
    {
     "data": {
      "text/html": [
       "<pre>--------------------------------------------------------</pre>"
      ],
      "text/plain": [
       "--------------------------------------------------------"
      ]
     },
     "metadata": {},
     "output_type": "display_data"
    },
    {
     "data": {
      "text/html": [
       "<pre>Number of examples          : 517</pre>"
      ],
      "text/plain": [
       "Number of examples          : 517"
      ]
     },
     "metadata": {},
     "output_type": "display_data"
    },
    {
     "data": {
      "text/html": [
       "<pre>Number of classes           : 6</pre>"
      ],
      "text/plain": [
       "Number of classes           : 6"
      ]
     },
     "metadata": {},
     "output_type": "display_data"
    },
    {
     "data": {
      "text/html": [
       "<pre>Number of feature columns   : 176</pre>"
      ],
      "text/plain": [
       "Number of feature columns   : 176"
      ]
     },
     "metadata": {},
     "output_type": "display_data"
    },
    {
     "data": {
      "text/html": [
       "<pre>Number of unpacked features : 176</pre>"
      ],
      "text/plain": [
       "Number of unpacked features : 176"
      ]
     },
     "metadata": {},
     "output_type": "display_data"
    },
    {
     "data": {
      "text/html": [
       "<pre>Number of coefficients      : 885</pre>"
      ],
      "text/plain": [
       "Number of coefficients      : 885"
      ]
     },
     "metadata": {},
     "output_type": "display_data"
    },
    {
     "data": {
      "text/html": [
       "<pre>Starting L-BFGS</pre>"
      ],
      "text/plain": [
       "Starting L-BFGS"
      ]
     },
     "metadata": {},
     "output_type": "display_data"
    },
    {
     "data": {
      "text/html": [
       "<pre>--------------------------------------------------------</pre>"
      ],
      "text/plain": [
       "--------------------------------------------------------"
      ]
     },
     "metadata": {},
     "output_type": "display_data"
    },
    {
     "data": {
      "text/html": [
       "<pre>+-----------+----------+-----------+--------------+-------------------+---------------------+</pre>"
      ],
      "text/plain": [
       "+-----------+----------+-----------+--------------+-------------------+---------------------+"
      ]
     },
     "metadata": {},
     "output_type": "display_data"
    },
    {
     "data": {
      "text/html": [
       "<pre>| Iteration | Passes   | Step size | Elapsed Time | Training Accuracy | Validation Accuracy |</pre>"
      ],
      "text/plain": [
       "| Iteration | Passes   | Step size | Elapsed Time | Training Accuracy | Validation Accuracy |"
      ]
     },
     "metadata": {},
     "output_type": "display_data"
    },
    {
     "data": {
      "text/html": [
       "<pre>+-----------+----------+-----------+--------------+-------------------+---------------------+</pre>"
      ],
      "text/plain": [
       "+-----------+----------+-----------+--------------+-------------------+---------------------+"
      ]
     },
     "metadata": {},
     "output_type": "display_data"
    },
    {
     "data": {
      "text/html": [
       "<pre>| 0         | 5        | 0.054234  | 0.190307     | 0.342360          | 0.214286            |</pre>"
      ],
      "text/plain": [
       "| 0         | 5        | 0.054234  | 0.190307     | 0.342360          | 0.214286            |"
      ]
     },
     "metadata": {},
     "output_type": "display_data"
    },
    {
     "data": {
      "text/html": [
       "<pre>| 1         | 9        | 1.138909  | 0.392492     | 0.342360          | 0.214286            |</pre>"
      ],
      "text/plain": [
       "| 1         | 9        | 1.138909  | 0.392492     | 0.342360          | 0.214286            |"
      ]
     },
     "metadata": {},
     "output_type": "display_data"
    },
    {
     "data": {
      "text/html": [
       "<pre>| 2         | 10       | 1.138909  | 0.476023     | 0.342360          | 0.214286            |</pre>"
      ],
      "text/plain": [
       "| 2         | 10       | 1.138909  | 0.476023     | 0.342360          | 0.214286            |"
      ]
     },
     "metadata": {},
     "output_type": "display_data"
    },
    {
     "data": {
      "text/html": [
       "<pre>| 3         | 11       | 1.138909  | 0.557884     | 0.342360          | 0.214286            |</pre>"
      ],
      "text/plain": [
       "| 3         | 11       | 1.138909  | 0.557884     | 0.342360          | 0.214286            |"
      ]
     },
     "metadata": {},
     "output_type": "display_data"
    },
    {
     "data": {
      "text/html": [
       "<pre>| 4         | 12       | 1.138909  | 0.642904     | 0.348162          | 0.214286            |</pre>"
      ],
      "text/plain": [
       "| 4         | 12       | 1.138909  | 0.642904     | 0.348162          | 0.214286            |"
      ]
     },
     "metadata": {},
     "output_type": "display_data"
    },
    {
     "data": {
      "text/html": [
       "<pre>| 9         | 20       | 0.284727  | 1.182822     | 0.361702          | 0.178571            |</pre>"
      ],
      "text/plain": [
       "| 9         | 20       | 0.284727  | 1.182822     | 0.361702          | 0.178571            |"
      ]
     },
     "metadata": {},
     "output_type": "display_data"
    },
    {
     "data": {
      "text/html": [
       "<pre>+-----------+----------+-----------+--------------+-------------------+---------------------+</pre>"
      ],
      "text/plain": [
       "+-----------+----------+-----------+--------------+-------------------+---------------------+"
      ]
     },
     "metadata": {},
     "output_type": "display_data"
    },
    {
     "name": "stdout",
     "output_type": "stream",
     "text": [
      "PROGRESS: Model selection based on validation accuracy:\n",
      "PROGRESS: ---------------------------------------------\n",
      "PROGRESS: BoostedTreesClassifier          : 0.2857142857142857\n",
      "PROGRESS: RandomForestClassifier          : 0.17857142857142858\n",
      "PROGRESS: DecisionTreeClassifier          : 0.25\n",
      "PROGRESS: LogisticClassifier              : 0.17857142857142858\n",
      "PROGRESS: ---------------------------------------------\n",
      "PROGRESS: Selecting BoostedTreesClassifier based on validation set performance.\n"
     ]
    }
   ],
   "source": [
    "import turicreate as tc\n",
    "def classifier_selection():\n",
    "    \n",
    "    data =  tc.SFrame('cleaned_wildfire_data.csv')\n",
    "\n",
    "    # Make a train-test split\n",
    "    train_data, test_data = data.random_split(0.8)\n",
    "\n",
    "    #make the features do not overlap\n",
    "    features_list=list(cleaned_df.drop(columns=['Size', 'size_category','log_sizes']).columns)\n",
    "    # Automatically picks the right model based on your data.\n",
    "    model = tc.classifier.create(train_data, target='size_category',features=features_list)\n",
    "\n",
    "    # Generate predictions (class/probabilities etc.), contained in an SFrame.\n",
    "    predictions = model.classify(test_data)\n",
    "\n",
    "    # Evaluate the model, with the results stored in a dictionary\n",
    "    results = model.evaluate(test_data)\n",
    "classifier_selection()"
   ]
  },
  {
   "cell_type": "markdown",
   "metadata": {
    "cell_id": "00011-f4bbd832-d28b-4f82-920f-db0e40fb23e5",
    "deepnote_cell_type": "markdown",
    "tags": []
   },
   "source": [
    "## Naive Bayes (Pan)"
   ]
  },
  {
   "cell_type": "code",
   "execution_count": 21,
   "metadata": {
    "cell_id": "00012-ce313cd3-07e8-4b73-83d6-d55aae403df8",
    "deepnote_cell_type": "markdown",
    "tags": []
   },
   "outputs": [],
   "source": [
    "from sklearn.preprocessing import Binarizer\n",
    "from sklearn.naive_bayes import MultinomialNB\n",
    "from sklearn.preprocessing import KBinsDiscretizer\n",
    "from sklearn.metrics import f1_score\n",
    "transformer = Binarizer(threshold=0.5)\n",
    "encoder=KBinsDiscretizer(n_bins=6,encode='ordinal',strategy='uniform')"
   ]
  },
  {
   "cell_type": "code",
   "execution_count": 22,
   "metadata": {},
   "outputs": [
    {
     "name": "stdout",
     "output_type": "stream",
     "text": [
      "The F1 score for BernoulliNB is  0.291970802919708\n"
     ]
    }
   ],
   "source": [
    "binary_train_data=transformer.fit_transform(train_data.T).T\n",
    "\n",
    "model = BernoulliNB(alpha=1)    \n",
    "model.fit(binary_train_data, train_labels) \n",
    "pred = model.predict(test_data)  \n",
    "print('The F1 score for BernoulliNB is ',f1_score(test_labels,pred,average='micro'))"
   ]
  },
  {
   "cell_type": "code",
   "execution_count": 23,
   "metadata": {},
   "outputs": [
    {
     "name": "stdout",
     "output_type": "stream",
     "text": [
      "The F1 score for GaussianNB is  0.5547445255474452\n"
     ]
    }
   ],
   "source": [
    "from sklearn.naive_bayes import GaussianNB\n",
    "clf=GaussianNB()\n",
    "clf.fit(train_data,train_labels)\n",
    "pred_Gaussian = clf.predict(test_data)\n",
    "F1_GaussianNB=f1_score(test_labels,pred_Gaussian,average='micro')\n",
    "print('The F1 score for GaussianNB is ',F1_GaussianNB)"
   ]
  },
  {
   "cell_type": "code",
   "execution_count": 25,
   "metadata": {},
   "outputs": [],
   "source": [
    "from sklearn.naive_bayes import CategoricalNB\n",
    "X=train_data.drop(columns=['Latitude', 'Longitude'])"
   ]
  },
  {
   "cell_type": "code",
   "execution_count": 29,
   "metadata": {},
   "outputs": [
    {
     "data": {
      "text/plain": [
       "(array([ 38, 121, 121, 121, 281]), array([81, 81, 82, 83, 82]))"
      ]
     },
     "execution_count": 29,
     "metadata": {},
     "output_type": "execute_result"
    }
   ],
   "source": [
    "np.where(X<0)"
   ]
  },
  {
   "cell_type": "code",
   "execution_count": 32,
   "metadata": {},
   "outputs": [
    {
     "ename": "KeyError",
     "evalue": "(38, 81)",
     "output_type": "error",
     "traceback": [
      "\u001b[0;31m---------------------------------------------------------------------------\u001b[0m",
      "\u001b[0;31mKeyError\u001b[0m                                  Traceback (most recent call last)",
      "\u001b[0;32m~/anaconda3/lib/python3.7/site-packages/pandas/core/indexes/base.py\u001b[0m in \u001b[0;36mget_loc\u001b[0;34m(self, key, method, tolerance)\u001b[0m\n\u001b[1;32m   2894\u001b[0m             \u001b[0;32mtry\u001b[0m\u001b[0;34m:\u001b[0m\u001b[0;34m\u001b[0m\u001b[0;34m\u001b[0m\u001b[0m\n\u001b[0;32m-> 2895\u001b[0;31m                 \u001b[0;32mreturn\u001b[0m \u001b[0mself\u001b[0m\u001b[0;34m.\u001b[0m\u001b[0m_engine\u001b[0m\u001b[0;34m.\u001b[0m\u001b[0mget_loc\u001b[0m\u001b[0;34m(\u001b[0m\u001b[0mcasted_key\u001b[0m\u001b[0;34m)\u001b[0m\u001b[0;34m\u001b[0m\u001b[0;34m\u001b[0m\u001b[0m\n\u001b[0m\u001b[1;32m   2896\u001b[0m             \u001b[0;32mexcept\u001b[0m \u001b[0mKeyError\u001b[0m \u001b[0;32mas\u001b[0m \u001b[0merr\u001b[0m\u001b[0;34m:\u001b[0m\u001b[0;34m\u001b[0m\u001b[0;34m\u001b[0m\u001b[0m\n",
      "\u001b[0;32mpandas/_libs/index.pyx\u001b[0m in \u001b[0;36mpandas._libs.index.IndexEngine.get_loc\u001b[0;34m()\u001b[0m\n",
      "\u001b[0;32mpandas/_libs/index.pyx\u001b[0m in \u001b[0;36mpandas._libs.index.IndexEngine.get_loc\u001b[0;34m()\u001b[0m\n",
      "\u001b[0;32mpandas/_libs/hashtable_class_helper.pxi\u001b[0m in \u001b[0;36mpandas._libs.hashtable.PyObjectHashTable.get_item\u001b[0;34m()\u001b[0m\n",
      "\u001b[0;32mpandas/_libs/hashtable_class_helper.pxi\u001b[0m in \u001b[0;36mpandas._libs.hashtable.PyObjectHashTable.get_item\u001b[0;34m()\u001b[0m\n",
      "\u001b[0;31mKeyError\u001b[0m: (38, 81)",
      "\nThe above exception was the direct cause of the following exception:\n",
      "\u001b[0;31mKeyError\u001b[0m                                  Traceback (most recent call last)",
      "\u001b[0;32m<ipython-input-32-92892a0a60bd>\u001b[0m in \u001b[0;36m<module>\u001b[0;34m\u001b[0m\n\u001b[0;32m----> 1\u001b[0;31m \u001b[0mX\u001b[0m\u001b[0;34m[\u001b[0m\u001b[0;36m38\u001b[0m\u001b[0;34m,\u001b[0m\u001b[0;36m81\u001b[0m\u001b[0;34m]\u001b[0m\u001b[0;34m\u001b[0m\u001b[0;34m\u001b[0m\u001b[0m\n\u001b[0m",
      "\u001b[0;32m~/anaconda3/lib/python3.7/site-packages/pandas/core/frame.py\u001b[0m in \u001b[0;36m__getitem__\u001b[0;34m(self, key)\u001b[0m\n\u001b[1;32m   2900\u001b[0m             \u001b[0;32mif\u001b[0m \u001b[0mself\u001b[0m\u001b[0;34m.\u001b[0m\u001b[0mcolumns\u001b[0m\u001b[0;34m.\u001b[0m\u001b[0mnlevels\u001b[0m \u001b[0;34m>\u001b[0m \u001b[0;36m1\u001b[0m\u001b[0;34m:\u001b[0m\u001b[0;34m\u001b[0m\u001b[0;34m\u001b[0m\u001b[0m\n\u001b[1;32m   2901\u001b[0m                 \u001b[0;32mreturn\u001b[0m \u001b[0mself\u001b[0m\u001b[0;34m.\u001b[0m\u001b[0m_getitem_multilevel\u001b[0m\u001b[0;34m(\u001b[0m\u001b[0mkey\u001b[0m\u001b[0;34m)\u001b[0m\u001b[0;34m\u001b[0m\u001b[0;34m\u001b[0m\u001b[0m\n\u001b[0;32m-> 2902\u001b[0;31m             \u001b[0mindexer\u001b[0m \u001b[0;34m=\u001b[0m \u001b[0mself\u001b[0m\u001b[0;34m.\u001b[0m\u001b[0mcolumns\u001b[0m\u001b[0;34m.\u001b[0m\u001b[0mget_loc\u001b[0m\u001b[0;34m(\u001b[0m\u001b[0mkey\u001b[0m\u001b[0;34m)\u001b[0m\u001b[0;34m\u001b[0m\u001b[0;34m\u001b[0m\u001b[0m\n\u001b[0m\u001b[1;32m   2903\u001b[0m             \u001b[0;32mif\u001b[0m \u001b[0mis_integer\u001b[0m\u001b[0;34m(\u001b[0m\u001b[0mindexer\u001b[0m\u001b[0;34m)\u001b[0m\u001b[0;34m:\u001b[0m\u001b[0;34m\u001b[0m\u001b[0;34m\u001b[0m\u001b[0m\n\u001b[1;32m   2904\u001b[0m                 \u001b[0mindexer\u001b[0m \u001b[0;34m=\u001b[0m \u001b[0;34m[\u001b[0m\u001b[0mindexer\u001b[0m\u001b[0;34m]\u001b[0m\u001b[0;34m\u001b[0m\u001b[0;34m\u001b[0m\u001b[0m\n",
      "\u001b[0;32m~/anaconda3/lib/python3.7/site-packages/pandas/core/indexes/base.py\u001b[0m in \u001b[0;36mget_loc\u001b[0;34m(self, key, method, tolerance)\u001b[0m\n\u001b[1;32m   2895\u001b[0m                 \u001b[0;32mreturn\u001b[0m \u001b[0mself\u001b[0m\u001b[0;34m.\u001b[0m\u001b[0m_engine\u001b[0m\u001b[0;34m.\u001b[0m\u001b[0mget_loc\u001b[0m\u001b[0;34m(\u001b[0m\u001b[0mcasted_key\u001b[0m\u001b[0;34m)\u001b[0m\u001b[0;34m\u001b[0m\u001b[0;34m\u001b[0m\u001b[0m\n\u001b[1;32m   2896\u001b[0m             \u001b[0;32mexcept\u001b[0m \u001b[0mKeyError\u001b[0m \u001b[0;32mas\u001b[0m \u001b[0merr\u001b[0m\u001b[0;34m:\u001b[0m\u001b[0;34m\u001b[0m\u001b[0;34m\u001b[0m\u001b[0m\n\u001b[0;32m-> 2897\u001b[0;31m                 \u001b[0;32mraise\u001b[0m \u001b[0mKeyError\u001b[0m\u001b[0;34m(\u001b[0m\u001b[0mkey\u001b[0m\u001b[0;34m)\u001b[0m \u001b[0;32mfrom\u001b[0m \u001b[0merr\u001b[0m\u001b[0;34m\u001b[0m\u001b[0;34m\u001b[0m\u001b[0m\n\u001b[0m\u001b[1;32m   2898\u001b[0m \u001b[0;34m\u001b[0m\u001b[0m\n\u001b[1;32m   2899\u001b[0m         \u001b[0;32mif\u001b[0m \u001b[0mtolerance\u001b[0m \u001b[0;32mis\u001b[0m \u001b[0;32mnot\u001b[0m \u001b[0;32mNone\u001b[0m\u001b[0;34m:\u001b[0m\u001b[0;34m\u001b[0m\u001b[0;34m\u001b[0m\u001b[0m\n",
      "\u001b[0;31mKeyError\u001b[0m: (38, 81)"
     ]
    }
   ],
   "source": [
    "X[38,81]"
   ]
  },
  {
   "cell_type": "code",
   "execution_count": 27,
   "metadata": {},
   "outputs": [
    {
     "ename": "ValueError",
     "evalue": "X must not contain negative values.",
     "output_type": "error",
     "traceback": [
      "\u001b[0;31m---------------------------------------------------------------------------\u001b[0m",
      "\u001b[0;31mValueError\u001b[0m                                Traceback (most recent call last)",
      "\u001b[0;32m<ipython-input-27-3944b04361b4>\u001b[0m in \u001b[0;36m<module>\u001b[0;34m\u001b[0m\n\u001b[1;32m      1\u001b[0m \u001b[0mclf\u001b[0m \u001b[0;34m=\u001b[0m \u001b[0mCategoricalNB\u001b[0m\u001b[0;34m(\u001b[0m\u001b[0;34m)\u001b[0m\u001b[0;34m\u001b[0m\u001b[0;34m\u001b[0m\u001b[0m\n\u001b[0;32m----> 2\u001b[0;31m \u001b[0mclf\u001b[0m\u001b[0;34m.\u001b[0m\u001b[0mfit\u001b[0m\u001b[0;34m(\u001b[0m\u001b[0mX\u001b[0m\u001b[0;34m,\u001b[0m \u001b[0mtrain_labels\u001b[0m\u001b[0;34m)\u001b[0m\u001b[0;34m\u001b[0m\u001b[0;34m\u001b[0m\u001b[0m\n\u001b[0m\u001b[1;32m      3\u001b[0m \u001b[0mpred_Categorical\u001b[0m\u001b[0;34m=\u001b[0m\u001b[0mclf\u001b[0m\u001b[0;34m.\u001b[0m\u001b[0mpredict\u001b[0m\u001b[0;34m(\u001b[0m\u001b[0mdev_data\u001b[0m\u001b[0;34m)\u001b[0m\u001b[0;34m\u001b[0m\u001b[0;34m\u001b[0m\u001b[0m\n\u001b[1;32m      4\u001b[0m \u001b[0mF1_CategoricalNB\u001b[0m\u001b[0;34m=\u001b[0m\u001b[0mf1_score\u001b[0m\u001b[0;34m(\u001b[0m\u001b[0mdev_labels\u001b[0m\u001b[0;34m,\u001b[0m\u001b[0mpred_Categorical\u001b[0m\u001b[0;34m,\u001b[0m\u001b[0maverage\u001b[0m\u001b[0;34m=\u001b[0m\u001b[0;34m'micro'\u001b[0m\u001b[0;34m)\u001b[0m\u001b[0;34m\u001b[0m\u001b[0;34m\u001b[0m\u001b[0m\n",
      "\u001b[0;32m~/anaconda3/lib/python3.7/site-packages/sklearn/naive_bayes.py\u001b[0m in \u001b[0;36mfit\u001b[0;34m(self, X, y, sample_weight)\u001b[0m\n\u001b[1;32m   1101\u001b[0m         \u001b[0mself\u001b[0m \u001b[0;34m:\u001b[0m \u001b[0mobject\u001b[0m\u001b[0;34m\u001b[0m\u001b[0;34m\u001b[0m\u001b[0m\n\u001b[1;32m   1102\u001b[0m         \"\"\"\n\u001b[0;32m-> 1103\u001b[0;31m         \u001b[0;32mreturn\u001b[0m \u001b[0msuper\u001b[0m\u001b[0;34m(\u001b[0m\u001b[0;34m)\u001b[0m\u001b[0;34m.\u001b[0m\u001b[0mfit\u001b[0m\u001b[0;34m(\u001b[0m\u001b[0mX\u001b[0m\u001b[0;34m,\u001b[0m \u001b[0my\u001b[0m\u001b[0;34m,\u001b[0m \u001b[0msample_weight\u001b[0m\u001b[0;34m=\u001b[0m\u001b[0msample_weight\u001b[0m\u001b[0;34m)\u001b[0m\u001b[0;34m\u001b[0m\u001b[0;34m\u001b[0m\u001b[0m\n\u001b[0m\u001b[1;32m   1104\u001b[0m \u001b[0;34m\u001b[0m\u001b[0m\n\u001b[1;32m   1105\u001b[0m     \u001b[0;32mdef\u001b[0m \u001b[0mpartial_fit\u001b[0m\u001b[0;34m(\u001b[0m\u001b[0mself\u001b[0m\u001b[0;34m,\u001b[0m \u001b[0mX\u001b[0m\u001b[0;34m,\u001b[0m \u001b[0my\u001b[0m\u001b[0;34m,\u001b[0m \u001b[0mclasses\u001b[0m\u001b[0;34m=\u001b[0m\u001b[0;32mNone\u001b[0m\u001b[0;34m,\u001b[0m \u001b[0msample_weight\u001b[0m\u001b[0;34m=\u001b[0m\u001b[0;32mNone\u001b[0m\u001b[0;34m)\u001b[0m\u001b[0;34m:\u001b[0m\u001b[0;34m\u001b[0m\u001b[0;34m\u001b[0m\u001b[0m\n",
      "\u001b[0;32m~/anaconda3/lib/python3.7/site-packages/sklearn/naive_bayes.py\u001b[0m in \u001b[0;36mfit\u001b[0;34m(self, X, y, sample_weight)\u001b[0m\n\u001b[1;32m    607\u001b[0m         \u001b[0mself\u001b[0m \u001b[0;34m:\u001b[0m \u001b[0mobject\u001b[0m\u001b[0;34m\u001b[0m\u001b[0;34m\u001b[0m\u001b[0m\n\u001b[1;32m    608\u001b[0m         \"\"\"\n\u001b[0;32m--> 609\u001b[0;31m         \u001b[0mX\u001b[0m\u001b[0;34m,\u001b[0m \u001b[0my\u001b[0m \u001b[0;34m=\u001b[0m \u001b[0mself\u001b[0m\u001b[0;34m.\u001b[0m\u001b[0m_check_X_y\u001b[0m\u001b[0;34m(\u001b[0m\u001b[0mX\u001b[0m\u001b[0;34m,\u001b[0m \u001b[0my\u001b[0m\u001b[0;34m)\u001b[0m\u001b[0;34m\u001b[0m\u001b[0;34m\u001b[0m\u001b[0m\n\u001b[0m\u001b[1;32m    610\u001b[0m         \u001b[0m_\u001b[0m\u001b[0;34m,\u001b[0m \u001b[0mn_features\u001b[0m \u001b[0;34m=\u001b[0m \u001b[0mX\u001b[0m\u001b[0;34m.\u001b[0m\u001b[0mshape\u001b[0m\u001b[0;34m\u001b[0m\u001b[0;34m\u001b[0m\u001b[0m\n\u001b[1;32m    611\u001b[0m         \u001b[0mself\u001b[0m\u001b[0;34m.\u001b[0m\u001b[0mn_features_\u001b[0m \u001b[0;34m=\u001b[0m \u001b[0mn_features\u001b[0m\u001b[0;34m\u001b[0m\u001b[0;34m\u001b[0m\u001b[0m\n",
      "\u001b[0;32m~/anaconda3/lib/python3.7/site-packages/sklearn/naive_bayes.py\u001b[0m in \u001b[0;36m_check_X_y\u001b[0;34m(self, X, y)\u001b[0m\n\u001b[1;32m   1164\u001b[0m         \u001b[0mX\u001b[0m\u001b[0;34m,\u001b[0m \u001b[0my\u001b[0m \u001b[0;34m=\u001b[0m \u001b[0mcheck_X_y\u001b[0m\u001b[0;34m(\u001b[0m\u001b[0mX\u001b[0m\u001b[0;34m,\u001b[0m \u001b[0my\u001b[0m\u001b[0;34m,\u001b[0m \u001b[0mdtype\u001b[0m\u001b[0;34m=\u001b[0m\u001b[0;34m'int'\u001b[0m\u001b[0;34m)\u001b[0m\u001b[0;34m\u001b[0m\u001b[0;34m\u001b[0m\u001b[0m\n\u001b[1;32m   1165\u001b[0m         \u001b[0;32mif\u001b[0m \u001b[0mnp\u001b[0m\u001b[0;34m.\u001b[0m\u001b[0many\u001b[0m\u001b[0;34m(\u001b[0m\u001b[0mX\u001b[0m \u001b[0;34m<\u001b[0m \u001b[0;36m0\u001b[0m\u001b[0;34m)\u001b[0m\u001b[0;34m:\u001b[0m\u001b[0;34m\u001b[0m\u001b[0;34m\u001b[0m\u001b[0m\n\u001b[0;32m-> 1166\u001b[0;31m             \u001b[0;32mraise\u001b[0m \u001b[0mValueError\u001b[0m\u001b[0;34m(\u001b[0m\u001b[0;34m\"X must not contain negative values.\"\u001b[0m\u001b[0;34m)\u001b[0m\u001b[0;34m\u001b[0m\u001b[0;34m\u001b[0m\u001b[0m\n\u001b[0m\u001b[1;32m   1167\u001b[0m         \u001b[0;32mreturn\u001b[0m \u001b[0mX\u001b[0m\u001b[0;34m,\u001b[0m \u001b[0my\u001b[0m\u001b[0;34m\u001b[0m\u001b[0;34m\u001b[0m\u001b[0m\n\u001b[1;32m   1168\u001b[0m \u001b[0;34m\u001b[0m\u001b[0m\n",
      "\u001b[0;31mValueError\u001b[0m: X must not contain negative values."
     ]
    }
   ],
   "source": [
    "\n",
    "clf = CategoricalNB()\n",
    "clf.fit(X, train_labels)\n",
    "pred_Categorical=clf.predict(dev_data)\n",
    "F1_CategoricalNB=f1_score(dev_labels,pred_Categorical,average='micro')"
   ]
  },
  {
   "cell_type": "code",
   "execution_count": null,
   "metadata": {},
   "outputs": [],
   "source": [
    "\n"
   ]
  },
  {
   "cell_type": "code",
   "execution_count": null,
   "metadata": {},
   "outputs": [],
   "source": []
  },
  {
   "cell_type": "markdown",
   "metadata": {
    "cell_id": "00013-7727d947-dd25-4c09-bda2-70182a766e34",
    "deepnote_cell_type": "markdown",
    "tags": []
   },
   "source": [
    "## k-nn & K-means (Pauline)"
   ]
  },
  {
   "cell_type": "markdown",
   "metadata": {
    "cell_id": "00014-53ab4bc6-2735-4f53-b35c-197468fc2d04",
    "deepnote_cell_type": "markdown",
    "tags": []
   },
   "source": [
    "Producing a k-Nearest-Neighbords model with various k values. Evaluating the performance of the model with a classification report. "
   ]
  },
  {
   "cell_type": "code",
   "execution_count": null,
   "metadata": {},
   "outputs": [],
   "source": []
  },
  {
   "cell_type": "markdown",
   "metadata": {
    "cell_id": "00015-3fdd9926-a8a8-41fb-978a-3610dda1fd22",
    "deepnote_cell_type": "markdown",
    "tags": []
   },
   "source": [
    "## Gaussian and PCA (Hannah)"
   ]
  },
  {
   "cell_type": "markdown",
   "metadata": {
    "cell_id": "00017-0869c7e7-515d-4215-a97b-0025368939a5",
    "deepnote_cell_type": "markdown",
    "tags": []
   },
   "source": [
    "## Logistic Regression (Cisco)"
   ]
  },
  {
   "cell_type": "markdown",
   "metadata": {
    "cell_id": "00018-03704ac7-7648-4ec8-9cb9-9725ee3848ec",
    "deepnote_cell_type": "markdown",
    "tags": []
   },
   "source": []
  },
  {
   "cell_type": "markdown",
   "metadata": {
    "cell_id": "00018-25df6ac1-359a-4e79-9eab-1e7f654db886",
    "deepnote_cell_type": "markdown",
    "tags": []
   },
   "source": [
    "## Linear Regression (Josh) "
   ]
  },
  {
   "cell_type": "markdown",
   "metadata": {
    "cell_id": "00019-95fab07f-93e8-44d8-8f70-4a5e35b43cc6",
    "deepnote_cell_type": "markdown",
    "tags": []
   },
   "source": []
  }
 ],
 "metadata": {
  "deepnote_execution_queue": [],
  "deepnote_notebook_id": "30439612-25d1-4cfd-a693-fe0b9669fb6c",
  "kernelspec": {
   "display_name": "Python 3",
   "language": "python",
   "name": "python3"
  },
  "language_info": {
   "codemirror_mode": {
    "name": "ipython",
    "version": 3
   },
   "file_extension": ".py",
   "mimetype": "text/x-python",
   "name": "python",
   "nbconvert_exporter": "python",
   "pygments_lexer": "ipython3",
   "version": "3.7.6"
  }
 },
 "nbformat": 4,
 "nbformat_minor": 4
}
