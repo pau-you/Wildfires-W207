{
 "cells": [
  {
   "cell_type": "code",
   "execution_count": 1,
   "metadata": {
    "cell_id": "00000-a7c2d964-7635-4c73-99ad-cbcd123fd259",
    "deepnote_cell_type": "code",
    "execution_millis": 719,
    "execution_start": 1606940438694,
    "output_cleared": false,
    "source_hash": "1118cb40",
    "tags": []
   },
   "outputs": [],
   "source": [
    "# This tells matplotlib not to try opening a new window for each plot.\n",
    "%matplotlib inline\n",
    "\n",
    "# General libraries.\n",
    "import numpy as np\n",
    "import pandas as pd\n",
    "import matplotlib.pyplot as plt\n",
    "import seaborn as sns\n",
    "\n",
    "#import cdist to find distance for creating circle for each cluster\n",
    "from scipy.spatial.distance import cdist\n",
    "\n",
    "# SK-learn libraries for learning.\n",
    "from sklearn.decomposition import PCA\n",
    "from sklearn.cluster import KMeans\n",
    "from sklearn.mixture import GaussianMixture\n",
    "from matplotlib.colors import LogNorm\n",
    "from sklearn.neighbors import KNeighborsClassifier\n",
    "from sklearn.linear_model import LogisticRegression\n",
    "from sklearn.naive_bayes import BernoulliNB\n",
    "from sklearn.naive_bayes import MultinomialNB\n",
    "\n",
    "# SK-learn libraries for evaluation.\n",
    "from sklearn.metrics import confusion_matrix\n",
    "from sklearn import metrics\n",
    "from sklearn.metrics import classification_report\n",
    "from sklearn.metrics import f1_score"
   ]
  },
  {
   "cell_type": "code",
   "execution_count": null,
   "metadata": {},
   "outputs": [],
   "source": []
  },
  {
   "cell_type": "markdown",
   "metadata": {
    "cell_id": "00001-6f733046-4421-4c87-bd14-52c0d75cd32d",
    "deepnote_cell_type": "markdown",
    "tags": []
   },
   "source": [
    "## Import Data"
   ]
  },
  {
   "cell_type": "code",
   "execution_count": 2,
   "metadata": {
    "cell_id": "00001-2a1ad5b9-4548-43d5-9a4c-ce82a2cafbc5",
    "deepnote_cell_type": "code",
    "execution_millis": 435,
    "execution_start": 1606940564476,
    "output_cleared": false,
    "source_hash": "51677f11",
    "tags": []
   },
   "outputs": [
    {
     "data": {
      "text/html": [
       "<div>\n",
       "<style scoped>\n",
       "    .dataframe tbody tr th:only-of-type {\n",
       "        vertical-align: middle;\n",
       "    }\n",
       "\n",
       "    .dataframe tbody tr th {\n",
       "        vertical-align: top;\n",
       "    }\n",
       "\n",
       "    .dataframe thead th {\n",
       "        text-align: right;\n",
       "    }\n",
       "</style>\n",
       "<table border=\"1\" class=\"dataframe\">\n",
       "  <thead>\n",
       "    <tr style=\"text-align: right;\">\n",
       "      <th></th>\n",
       "      <th>Latitude</th>\n",
       "      <th>Longitude</th>\n",
       "      <th>Size</th>\n",
       "      <th>log_sizes</th>\n",
       "      <th>size_category</th>\n",
       "      <th>temperature_14</th>\n",
       "      <th>temperature_13</th>\n",
       "      <th>temperature_12</th>\n",
       "      <th>temperature_11</th>\n",
       "      <th>temperature_10</th>\n",
       "      <th>...</th>\n",
       "      <th>windSpeed5</th>\n",
       "      <th>windSpeed6</th>\n",
       "      <th>windSpeed7</th>\n",
       "      <th>windSpeed8</th>\n",
       "      <th>windSpeed9</th>\n",
       "      <th>windSpeed10</th>\n",
       "      <th>windSpeed11</th>\n",
       "      <th>windSpeed12</th>\n",
       "      <th>windSpeed13</th>\n",
       "      <th>windSpeed14</th>\n",
       "    </tr>\n",
       "  </thead>\n",
       "  <tbody>\n",
       "    <tr>\n",
       "      <th>0</th>\n",
       "      <td>33.6681</td>\n",
       "      <td>-117.50139</td>\n",
       "      <td>100.0</td>\n",
       "      <td>4.605170</td>\n",
       "      <td>class_d</td>\n",
       "      <td>48.221250</td>\n",
       "      <td>52.325833</td>\n",
       "      <td>55.353750</td>\n",
       "      <td>52.667083</td>\n",
       "      <td>48.797917</td>\n",
       "      <td>...</td>\n",
       "      <td>3.646667</td>\n",
       "      <td>2.427500</td>\n",
       "      <td>4.275833</td>\n",
       "      <td>1.949583</td>\n",
       "      <td>2.096250</td>\n",
       "      <td>1.935833</td>\n",
       "      <td>1.428750</td>\n",
       "      <td>2.269583</td>\n",
       "      <td>1.633333</td>\n",
       "      <td>1.618333</td>\n",
       "    </tr>\n",
       "    <tr>\n",
       "      <th>1</th>\n",
       "      <td>33.0333</td>\n",
       "      <td>-116.83389</td>\n",
       "      <td>25.0</td>\n",
       "      <td>3.218876</td>\n",
       "      <td>class_c</td>\n",
       "      <td>48.305833</td>\n",
       "      <td>46.069583</td>\n",
       "      <td>44.835417</td>\n",
       "      <td>39.776667</td>\n",
       "      <td>37.474167</td>\n",
       "      <td>...</td>\n",
       "      <td>1.526667</td>\n",
       "      <td>1.640417</td>\n",
       "      <td>1.833333</td>\n",
       "      <td>5.261250</td>\n",
       "      <td>4.941250</td>\n",
       "      <td>1.846250</td>\n",
       "      <td>2.011250</td>\n",
       "      <td>7.476250</td>\n",
       "      <td>5.292083</td>\n",
       "      <td>2.992083</td>\n",
       "    </tr>\n",
       "    <tr>\n",
       "      <th>2</th>\n",
       "      <td>37.3683</td>\n",
       "      <td>-118.35833</td>\n",
       "      <td>840.0</td>\n",
       "      <td>6.733402</td>\n",
       "      <td>class_e</td>\n",
       "      <td>40.872500</td>\n",
       "      <td>41.335833</td>\n",
       "      <td>49.464583</td>\n",
       "      <td>50.744583</td>\n",
       "      <td>55.579167</td>\n",
       "      <td>...</td>\n",
       "      <td>3.337500</td>\n",
       "      <td>2.846250</td>\n",
       "      <td>5.654583</td>\n",
       "      <td>4.394583</td>\n",
       "      <td>2.933750</td>\n",
       "      <td>2.271250</td>\n",
       "      <td>2.413333</td>\n",
       "      <td>2.819167</td>\n",
       "      <td>5.687500</td>\n",
       "      <td>6.950417</td>\n",
       "    </tr>\n",
       "    <tr>\n",
       "      <th>3</th>\n",
       "      <td>33.8692</td>\n",
       "      <td>-117.68361</td>\n",
       "      <td>892.0</td>\n",
       "      <td>6.793466</td>\n",
       "      <td>class_e</td>\n",
       "      <td>55.987500</td>\n",
       "      <td>59.727083</td>\n",
       "      <td>60.797917</td>\n",
       "      <td>62.654167</td>\n",
       "      <td>64.841250</td>\n",
       "      <td>...</td>\n",
       "      <td>5.224583</td>\n",
       "      <td>4.270417</td>\n",
       "      <td>2.530000</td>\n",
       "      <td>4.327917</td>\n",
       "      <td>5.611250</td>\n",
       "      <td>3.257917</td>\n",
       "      <td>3.257083</td>\n",
       "      <td>3.121667</td>\n",
       "      <td>2.863750</td>\n",
       "      <td>2.850417</td>\n",
       "    </tr>\n",
       "    <tr>\n",
       "      <th>4</th>\n",
       "      <td>32.8689</td>\n",
       "      <td>-116.86667</td>\n",
       "      <td>15.0</td>\n",
       "      <td>2.708050</td>\n",
       "      <td>class_c</td>\n",
       "      <td>54.468750</td>\n",
       "      <td>53.435833</td>\n",
       "      <td>55.019167</td>\n",
       "      <td>58.447083</td>\n",
       "      <td>62.486667</td>\n",
       "      <td>...</td>\n",
       "      <td>3.899167</td>\n",
       "      <td>4.002500</td>\n",
       "      <td>3.761667</td>\n",
       "      <td>6.027083</td>\n",
       "      <td>3.868333</td>\n",
       "      <td>2.800000</td>\n",
       "      <td>3.557500</td>\n",
       "      <td>3.774583</td>\n",
       "      <td>4.250417</td>\n",
       "      <td>3.922083</td>\n",
       "    </tr>\n",
       "  </tbody>\n",
       "</table>\n",
       "<p>5 rows × 179 columns</p>\n",
       "</div>"
      ],
      "text/plain": [
       "   Latitude  Longitude   Size  log_sizes size_category  temperature_14  \\\n",
       "0   33.6681 -117.50139  100.0   4.605170       class_d       48.221250   \n",
       "1   33.0333 -116.83389   25.0   3.218876       class_c       48.305833   \n",
       "2   37.3683 -118.35833  840.0   6.733402       class_e       40.872500   \n",
       "3   33.8692 -117.68361  892.0   6.793466       class_e       55.987500   \n",
       "4   32.8689 -116.86667   15.0   2.708050       class_c       54.468750   \n",
       "\n",
       "   temperature_13  temperature_12  temperature_11  temperature_10  ...  \\\n",
       "0       52.325833       55.353750       52.667083       48.797917  ...   \n",
       "1       46.069583       44.835417       39.776667       37.474167  ...   \n",
       "2       41.335833       49.464583       50.744583       55.579167  ...   \n",
       "3       59.727083       60.797917       62.654167       64.841250  ...   \n",
       "4       53.435833       55.019167       58.447083       62.486667  ...   \n",
       "\n",
       "   windSpeed5  windSpeed6  windSpeed7  windSpeed8  windSpeed9  windSpeed10  \\\n",
       "0    3.646667    2.427500    4.275833    1.949583    2.096250     1.935833   \n",
       "1    1.526667    1.640417    1.833333    5.261250    4.941250     1.846250   \n",
       "2    3.337500    2.846250    5.654583    4.394583    2.933750     2.271250   \n",
       "3    5.224583    4.270417    2.530000    4.327917    5.611250     3.257917   \n",
       "4    3.899167    4.002500    3.761667    6.027083    3.868333     2.800000   \n",
       "\n",
       "   windSpeed11  windSpeed12  windSpeed13  windSpeed14  \n",
       "0     1.428750     2.269583     1.633333     1.618333  \n",
       "1     2.011250     7.476250     5.292083     2.992083  \n",
       "2     2.413333     2.819167     5.687500     6.950417  \n",
       "3     3.257083     3.121667     2.863750     2.850417  \n",
       "4     3.557500     3.774583     4.250417     3.922083  \n",
       "\n",
       "[5 rows x 179 columns]"
      ]
     },
     "execution_count": 2,
     "metadata": {},
     "output_type": "execute_result"
    }
   ],
   "source": [
    "cleaned_df=pd.read_csv('cleaned_wildfire_data.csv').drop(['Unnamed: 0','_id','Event'],axis=1)\n",
    "cleaned_df.head()"
   ]
  },
  {
   "cell_type": "code",
   "execution_count": 3,
   "metadata": {
    "cell_id": "00003-ebe6a6d1-b221-4de8-8da7-38ffc6a0944c",
    "deepnote_cell_type": "code",
    "execution_millis": 0,
    "execution_start": 1606940624650,
    "output_cleared": false,
    "source_hash": "daff085a",
    "tags": []
   },
   "outputs": [],
   "source": [
    "#Split data into X's (features) and Y's (labels)\n",
    "X= cleaned_df.drop(columns='size_category')\n",
    "y= cleaned_df['size_category']"
   ]
  },
  {
   "cell_type": "code",
   "execution_count": 4,
   "metadata": {},
   "outputs": [
    {
     "data": {
      "text/plain": [
       "681"
      ]
     },
     "execution_count": 4,
     "metadata": {},
     "output_type": "execute_result"
    }
   ],
   "source": [
    "len(X)"
   ]
  },
  {
   "cell_type": "code",
   "execution_count": 5,
   "metadata": {},
   "outputs": [
    {
     "data": {
      "text/plain": [
       "681"
      ]
     },
     "execution_count": 5,
     "metadata": {},
     "output_type": "execute_result"
    }
   ],
   "source": [
    "len(y)"
   ]
  },
  {
   "cell_type": "code",
   "execution_count": 6,
   "metadata": {},
   "outputs": [],
   "source": [
    "train_d, dev_d, test_d = np.split(X.sample(frac=1, random_state=42), [int(.6*len(X)), int(.8*len(X))])\n"
   ]
  },
  {
   "cell_type": "code",
   "execution_count": 7,
   "metadata": {
    "cell_id": "00006-0d9326c6-260c-41a6-ab73-6e4f8067912d",
    "deepnote_cell_type": "code",
    "execution_millis": 326,
    "execution_start": 1606940626365,
    "output_cleared": false,
    "scrolled": true,
    "source_hash": "7c234d23",
    "tags": []
   },
   "outputs": [
    {
     "data": {
      "text/html": [
       "<div>\n",
       "<style scoped>\n",
       "    .dataframe tbody tr th:only-of-type {\n",
       "        vertical-align: middle;\n",
       "    }\n",
       "\n",
       "    .dataframe tbody tr th {\n",
       "        vertical-align: top;\n",
       "    }\n",
       "\n",
       "    .dataframe thead th {\n",
       "        text-align: right;\n",
       "    }\n",
       "</style>\n",
       "<table border=\"1\" class=\"dataframe\">\n",
       "  <thead>\n",
       "    <tr style=\"text-align: right;\">\n",
       "      <th></th>\n",
       "      <th>Latitude</th>\n",
       "      <th>Longitude</th>\n",
       "      <th>Size</th>\n",
       "      <th>log_sizes</th>\n",
       "      <th>temperature_14</th>\n",
       "      <th>temperature_13</th>\n",
       "      <th>temperature_12</th>\n",
       "      <th>temperature_11</th>\n",
       "      <th>temperature_10</th>\n",
       "      <th>temperature_9</th>\n",
       "      <th>...</th>\n",
       "      <th>windSpeed5</th>\n",
       "      <th>windSpeed6</th>\n",
       "      <th>windSpeed7</th>\n",
       "      <th>windSpeed8</th>\n",
       "      <th>windSpeed9</th>\n",
       "      <th>windSpeed10</th>\n",
       "      <th>windSpeed11</th>\n",
       "      <th>windSpeed12</th>\n",
       "      <th>windSpeed13</th>\n",
       "      <th>windSpeed14</th>\n",
       "    </tr>\n",
       "  </thead>\n",
       "  <tbody>\n",
       "    <tr>\n",
       "      <th>648</th>\n",
       "      <td>33.68194</td>\n",
       "      <td>-117.39972</td>\n",
       "      <td>188.0</td>\n",
       "      <td>5.236442</td>\n",
       "      <td>73.776667</td>\n",
       "      <td>73.557917</td>\n",
       "      <td>74.040000</td>\n",
       "      <td>73.537917</td>\n",
       "      <td>72.351250</td>\n",
       "      <td>73.099167</td>\n",
       "      <td>...</td>\n",
       "      <td>2.262500</td>\n",
       "      <td>2.112500</td>\n",
       "      <td>1.738333</td>\n",
       "      <td>1.844167</td>\n",
       "      <td>1.837500</td>\n",
       "      <td>1.867083</td>\n",
       "      <td>2.002083</td>\n",
       "      <td>1.996250</td>\n",
       "      <td>1.927917</td>\n",
       "      <td>2.248333</td>\n",
       "    </tr>\n",
       "    <tr>\n",
       "      <th>296</th>\n",
       "      <td>34.31100</td>\n",
       "      <td>-117.32200</td>\n",
       "      <td>4100.0</td>\n",
       "      <td>8.318742</td>\n",
       "      <td>64.466667</td>\n",
       "      <td>57.216250</td>\n",
       "      <td>55.025000</td>\n",
       "      <td>50.965417</td>\n",
       "      <td>47.996667</td>\n",
       "      <td>55.321250</td>\n",
       "      <td>...</td>\n",
       "      <td>1.065833</td>\n",
       "      <td>1.405833</td>\n",
       "      <td>2.002500</td>\n",
       "      <td>2.440417</td>\n",
       "      <td>2.578333</td>\n",
       "      <td>2.952917</td>\n",
       "      <td>2.266667</td>\n",
       "      <td>4.623750</td>\n",
       "      <td>2.554167</td>\n",
       "      <td>2.536250</td>\n",
       "    </tr>\n",
       "    <tr>\n",
       "      <th>63</th>\n",
       "      <td>36.68390</td>\n",
       "      <td>-119.21611</td>\n",
       "      <td>150.0</td>\n",
       "      <td>5.010635</td>\n",
       "      <td>87.258333</td>\n",
       "      <td>87.747917</td>\n",
       "      <td>84.630417</td>\n",
       "      <td>81.019167</td>\n",
       "      <td>80.775000</td>\n",
       "      <td>81.937500</td>\n",
       "      <td>...</td>\n",
       "      <td>2.191667</td>\n",
       "      <td>1.915000</td>\n",
       "      <td>1.138333</td>\n",
       "      <td>1.995833</td>\n",
       "      <td>1.856250</td>\n",
       "      <td>1.873750</td>\n",
       "      <td>1.972083</td>\n",
       "      <td>1.659583</td>\n",
       "      <td>2.586667</td>\n",
       "      <td>2.278750</td>\n",
       "    </tr>\n",
       "    <tr>\n",
       "      <th>320</th>\n",
       "      <td>34.77900</td>\n",
       "      <td>-120.09000</td>\n",
       "      <td>25000.0</td>\n",
       "      <td>10.126631</td>\n",
       "      <td>59.758750</td>\n",
       "      <td>61.035417</td>\n",
       "      <td>62.762083</td>\n",
       "      <td>60.147500</td>\n",
       "      <td>58.266250</td>\n",
       "      <td>60.171250</td>\n",
       "      <td>...</td>\n",
       "      <td>2.471250</td>\n",
       "      <td>1.929167</td>\n",
       "      <td>2.868333</td>\n",
       "      <td>2.996250</td>\n",
       "      <td>2.430833</td>\n",
       "      <td>2.020833</td>\n",
       "      <td>2.118750</td>\n",
       "      <td>2.981250</td>\n",
       "      <td>2.673333</td>\n",
       "      <td>2.871667</td>\n",
       "    </tr>\n",
       "    <tr>\n",
       "      <th>101</th>\n",
       "      <td>33.44360</td>\n",
       "      <td>-117.42389</td>\n",
       "      <td>200.0</td>\n",
       "      <td>5.298317</td>\n",
       "      <td>66.606250</td>\n",
       "      <td>64.455833</td>\n",
       "      <td>65.207917</td>\n",
       "      <td>65.526667</td>\n",
       "      <td>65.628333</td>\n",
       "      <td>64.033750</td>\n",
       "      <td>...</td>\n",
       "      <td>1.880000</td>\n",
       "      <td>2.130833</td>\n",
       "      <td>2.150417</td>\n",
       "      <td>2.744167</td>\n",
       "      <td>1.798750</td>\n",
       "      <td>1.590000</td>\n",
       "      <td>1.427917</td>\n",
       "      <td>1.802083</td>\n",
       "      <td>1.683750</td>\n",
       "      <td>1.746250</td>\n",
       "    </tr>\n",
       "  </tbody>\n",
       "</table>\n",
       "<p>5 rows × 178 columns</p>\n",
       "</div>"
      ],
      "text/plain": [
       "     Latitude  Longitude     Size  log_sizes  temperature_14  temperature_13  \\\n",
       "648  33.68194 -117.39972    188.0   5.236442       73.776667       73.557917   \n",
       "296  34.31100 -117.32200   4100.0   8.318742       64.466667       57.216250   \n",
       "63   36.68390 -119.21611    150.0   5.010635       87.258333       87.747917   \n",
       "320  34.77900 -120.09000  25000.0  10.126631       59.758750       61.035417   \n",
       "101  33.44360 -117.42389    200.0   5.298317       66.606250       64.455833   \n",
       "\n",
       "     temperature_12  temperature_11  temperature_10  temperature_9  ...  \\\n",
       "648       74.040000       73.537917       72.351250      73.099167  ...   \n",
       "296       55.025000       50.965417       47.996667      55.321250  ...   \n",
       "63        84.630417       81.019167       80.775000      81.937500  ...   \n",
       "320       62.762083       60.147500       58.266250      60.171250  ...   \n",
       "101       65.207917       65.526667       65.628333      64.033750  ...   \n",
       "\n",
       "     windSpeed5  windSpeed6  windSpeed7  windSpeed8  windSpeed9  windSpeed10  \\\n",
       "648    2.262500    2.112500    1.738333    1.844167    1.837500     1.867083   \n",
       "296    1.065833    1.405833    2.002500    2.440417    2.578333     2.952917   \n",
       "63     2.191667    1.915000    1.138333    1.995833    1.856250     1.873750   \n",
       "320    2.471250    1.929167    2.868333    2.996250    2.430833     2.020833   \n",
       "101    1.880000    2.130833    2.150417    2.744167    1.798750     1.590000   \n",
       "\n",
       "     windSpeed11  windSpeed12  windSpeed13  windSpeed14  \n",
       "648     2.002083     1.996250     1.927917     2.248333  \n",
       "296     2.266667     4.623750     2.554167     2.536250  \n",
       "63      1.972083     1.659583     2.586667     2.278750  \n",
       "320     2.118750     2.981250     2.673333     2.871667  \n",
       "101     1.427917     1.802083     1.683750     1.746250  \n",
       "\n",
       "[5 rows x 178 columns]"
      ]
     },
     "execution_count": 7,
     "metadata": {},
     "output_type": "execute_result"
    }
   ],
   "source": [
    "train_d.head()"
   ]
  },
  {
   "cell_type": "code",
   "execution_count": 8,
   "metadata": {
    "cell_id": "00006-64731328-6210-47c5-90a1-c3cce0f6e705",
    "deepnote_cell_type": "code",
    "execution_millis": 388,
    "execution_start": 1606938824968,
    "output_cleared": false,
    "source_hash": "42ff169f",
    "tags": []
   },
   "outputs": [],
   "source": [
    "train_l, dev_l, test_l = np.split(y.sample(frac=1, random_state=42), [int(.6*len(y)), int(.8*len(y))])\n"
   ]
  },
  {
   "cell_type": "code",
   "execution_count": 9,
   "metadata": {
    "cell_id": "00008-c02c4245-b285-4639-980f-c79be9f6e4ec",
    "deepnote_cell_type": "code",
    "scrolled": true,
    "tags": []
   },
   "outputs": [
    {
     "data": {
      "text/plain": [
       "648    class_d\n",
       "296    class_f\n",
       "63     class_d\n",
       "320    class_g\n",
       "101    class_d\n",
       "Name: size_category, dtype: object"
      ]
     },
     "execution_count": 9,
     "metadata": {},
     "output_type": "execute_result"
    }
   ],
   "source": [
    "train_l.head()"
   ]
  },
  {
   "cell_type": "code",
   "execution_count": 10,
   "metadata": {},
   "outputs": [],
   "source": [
    "train_data = train_d.reset_index(drop=True)\n",
    "test_data = test_d.reset_index(drop=True)\n",
    "train_labels = train_l.reset_index(drop=True)\n",
    "test_labels = test_l.reset_index(drop=True)\n",
    "dev_data = dev_d.reset_index(drop=True)\n",
    "dev_labels = dev_l.reset_index(drop=True)"
   ]
  },
  {
   "cell_type": "code",
   "execution_count": 11,
   "metadata": {},
   "outputs": [
    {
     "data": {
      "text/html": [
       "<div>\n",
       "<style scoped>\n",
       "    .dataframe tbody tr th:only-of-type {\n",
       "        vertical-align: middle;\n",
       "    }\n",
       "\n",
       "    .dataframe tbody tr th {\n",
       "        vertical-align: top;\n",
       "    }\n",
       "\n",
       "    .dataframe thead th {\n",
       "        text-align: right;\n",
       "    }\n",
       "</style>\n",
       "<table border=\"1\" class=\"dataframe\">\n",
       "  <thead>\n",
       "    <tr style=\"text-align: right;\">\n",
       "      <th></th>\n",
       "      <th>Latitude</th>\n",
       "      <th>Longitude</th>\n",
       "      <th>Size</th>\n",
       "      <th>log_sizes</th>\n",
       "      <th>temperature_14</th>\n",
       "      <th>temperature_13</th>\n",
       "      <th>temperature_12</th>\n",
       "      <th>temperature_11</th>\n",
       "      <th>temperature_10</th>\n",
       "      <th>temperature_9</th>\n",
       "      <th>...</th>\n",
       "      <th>windSpeed5</th>\n",
       "      <th>windSpeed6</th>\n",
       "      <th>windSpeed7</th>\n",
       "      <th>windSpeed8</th>\n",
       "      <th>windSpeed9</th>\n",
       "      <th>windSpeed10</th>\n",
       "      <th>windSpeed11</th>\n",
       "      <th>windSpeed12</th>\n",
       "      <th>windSpeed13</th>\n",
       "      <th>windSpeed14</th>\n",
       "    </tr>\n",
       "  </thead>\n",
       "  <tbody>\n",
       "    <tr>\n",
       "      <th>0</th>\n",
       "      <td>33.68194</td>\n",
       "      <td>-117.39972</td>\n",
       "      <td>188.0</td>\n",
       "      <td>5.236442</td>\n",
       "      <td>73.776667</td>\n",
       "      <td>73.557917</td>\n",
       "      <td>74.040000</td>\n",
       "      <td>73.537917</td>\n",
       "      <td>72.351250</td>\n",
       "      <td>73.099167</td>\n",
       "      <td>...</td>\n",
       "      <td>2.262500</td>\n",
       "      <td>2.112500</td>\n",
       "      <td>1.738333</td>\n",
       "      <td>1.844167</td>\n",
       "      <td>1.837500</td>\n",
       "      <td>1.867083</td>\n",
       "      <td>2.002083</td>\n",
       "      <td>1.996250</td>\n",
       "      <td>1.927917</td>\n",
       "      <td>2.248333</td>\n",
       "    </tr>\n",
       "    <tr>\n",
       "      <th>1</th>\n",
       "      <td>34.31100</td>\n",
       "      <td>-117.32200</td>\n",
       "      <td>4100.0</td>\n",
       "      <td>8.318742</td>\n",
       "      <td>64.466667</td>\n",
       "      <td>57.216250</td>\n",
       "      <td>55.025000</td>\n",
       "      <td>50.965417</td>\n",
       "      <td>47.996667</td>\n",
       "      <td>55.321250</td>\n",
       "      <td>...</td>\n",
       "      <td>1.065833</td>\n",
       "      <td>1.405833</td>\n",
       "      <td>2.002500</td>\n",
       "      <td>2.440417</td>\n",
       "      <td>2.578333</td>\n",
       "      <td>2.952917</td>\n",
       "      <td>2.266667</td>\n",
       "      <td>4.623750</td>\n",
       "      <td>2.554167</td>\n",
       "      <td>2.536250</td>\n",
       "    </tr>\n",
       "    <tr>\n",
       "      <th>2</th>\n",
       "      <td>36.68390</td>\n",
       "      <td>-119.21611</td>\n",
       "      <td>150.0</td>\n",
       "      <td>5.010635</td>\n",
       "      <td>87.258333</td>\n",
       "      <td>87.747917</td>\n",
       "      <td>84.630417</td>\n",
       "      <td>81.019167</td>\n",
       "      <td>80.775000</td>\n",
       "      <td>81.937500</td>\n",
       "      <td>...</td>\n",
       "      <td>2.191667</td>\n",
       "      <td>1.915000</td>\n",
       "      <td>1.138333</td>\n",
       "      <td>1.995833</td>\n",
       "      <td>1.856250</td>\n",
       "      <td>1.873750</td>\n",
       "      <td>1.972083</td>\n",
       "      <td>1.659583</td>\n",
       "      <td>2.586667</td>\n",
       "      <td>2.278750</td>\n",
       "    </tr>\n",
       "    <tr>\n",
       "      <th>3</th>\n",
       "      <td>34.77900</td>\n",
       "      <td>-120.09000</td>\n",
       "      <td>25000.0</td>\n",
       "      <td>10.126631</td>\n",
       "      <td>59.758750</td>\n",
       "      <td>61.035417</td>\n",
       "      <td>62.762083</td>\n",
       "      <td>60.147500</td>\n",
       "      <td>58.266250</td>\n",
       "      <td>60.171250</td>\n",
       "      <td>...</td>\n",
       "      <td>2.471250</td>\n",
       "      <td>1.929167</td>\n",
       "      <td>2.868333</td>\n",
       "      <td>2.996250</td>\n",
       "      <td>2.430833</td>\n",
       "      <td>2.020833</td>\n",
       "      <td>2.118750</td>\n",
       "      <td>2.981250</td>\n",
       "      <td>2.673333</td>\n",
       "      <td>2.871667</td>\n",
       "    </tr>\n",
       "    <tr>\n",
       "      <th>4</th>\n",
       "      <td>33.44360</td>\n",
       "      <td>-117.42389</td>\n",
       "      <td>200.0</td>\n",
       "      <td>5.298317</td>\n",
       "      <td>66.606250</td>\n",
       "      <td>64.455833</td>\n",
       "      <td>65.207917</td>\n",
       "      <td>65.526667</td>\n",
       "      <td>65.628333</td>\n",
       "      <td>64.033750</td>\n",
       "      <td>...</td>\n",
       "      <td>1.880000</td>\n",
       "      <td>2.130833</td>\n",
       "      <td>2.150417</td>\n",
       "      <td>2.744167</td>\n",
       "      <td>1.798750</td>\n",
       "      <td>1.590000</td>\n",
       "      <td>1.427917</td>\n",
       "      <td>1.802083</td>\n",
       "      <td>1.683750</td>\n",
       "      <td>1.746250</td>\n",
       "    </tr>\n",
       "  </tbody>\n",
       "</table>\n",
       "<p>5 rows × 178 columns</p>\n",
       "</div>"
      ],
      "text/plain": [
       "   Latitude  Longitude     Size  log_sizes  temperature_14  temperature_13  \\\n",
       "0  33.68194 -117.39972    188.0   5.236442       73.776667       73.557917   \n",
       "1  34.31100 -117.32200   4100.0   8.318742       64.466667       57.216250   \n",
       "2  36.68390 -119.21611    150.0   5.010635       87.258333       87.747917   \n",
       "3  34.77900 -120.09000  25000.0  10.126631       59.758750       61.035417   \n",
       "4  33.44360 -117.42389    200.0   5.298317       66.606250       64.455833   \n",
       "\n",
       "   temperature_12  temperature_11  temperature_10  temperature_9  ...  \\\n",
       "0       74.040000       73.537917       72.351250      73.099167  ...   \n",
       "1       55.025000       50.965417       47.996667      55.321250  ...   \n",
       "2       84.630417       81.019167       80.775000      81.937500  ...   \n",
       "3       62.762083       60.147500       58.266250      60.171250  ...   \n",
       "4       65.207917       65.526667       65.628333      64.033750  ...   \n",
       "\n",
       "   windSpeed5  windSpeed6  windSpeed7  windSpeed8  windSpeed9  windSpeed10  \\\n",
       "0    2.262500    2.112500    1.738333    1.844167    1.837500     1.867083   \n",
       "1    1.065833    1.405833    2.002500    2.440417    2.578333     2.952917   \n",
       "2    2.191667    1.915000    1.138333    1.995833    1.856250     1.873750   \n",
       "3    2.471250    1.929167    2.868333    2.996250    2.430833     2.020833   \n",
       "4    1.880000    2.130833    2.150417    2.744167    1.798750     1.590000   \n",
       "\n",
       "   windSpeed11  windSpeed12  windSpeed13  windSpeed14  \n",
       "0     2.002083     1.996250     1.927917     2.248333  \n",
       "1     2.266667     4.623750     2.554167     2.536250  \n",
       "2     1.972083     1.659583     2.586667     2.278750  \n",
       "3     2.118750     2.981250     2.673333     2.871667  \n",
       "4     1.427917     1.802083     1.683750     1.746250  \n",
       "\n",
       "[5 rows x 178 columns]"
      ]
     },
     "execution_count": 11,
     "metadata": {},
     "output_type": "execute_result"
    }
   ],
   "source": [
    "train_data.head()"
   ]
  },
  {
   "cell_type": "markdown",
   "metadata": {
    "cell_id": "00009-9b5f3e21-fcdc-4d5f-aad0-b3deaddee3c8",
    "deepnote_cell_type": "markdown",
    "tags": []
   },
   "source": [
    "Model:\\\n",
    "1) Naive Bayes (Pan)\\\n",
    "    -Bernoulli\n",
    "    -Multinomial\n",
    "2) k-nn & K-means (Pauline)\n",
    "3) Gaussian and PCA (Hannah)\n",
    "4) Logistic Regression (Cisco)\n",
    "5) Linear Regression (Josh) (optional)\n",
    "\n"
   ]
  },
  {
   "cell_type": "markdown",
   "metadata": {
    "cell_id": "00010-fe7586df-dd82-455d-9dff-c7f5528cd9b1",
    "deepnote_cell_type": "markdown",
    "tags": []
   },
   "source": []
  },
  {
   "cell_type": "markdown",
   "metadata": {
    "cell_id": "00010-eaff7a8b-3bd5-4dd1-953e-49482f0f9378",
    "deepnote_cell_type": "markdown",
    "tags": []
   },
   "source": []
  },
  {
   "cell_type": "markdown",
   "metadata": {
    "cell_id": "00011-f4bbd832-d28b-4f82-920f-db0e40fb23e5",
    "deepnote_cell_type": "markdown",
    "tags": []
   },
   "source": [
    "## Naive Bayes (Pan)"
   ]
  },
  {
   "cell_type": "markdown",
   "metadata": {
    "cell_id": "00012-ce313cd3-07e8-4b73-83d6-d55aae403df8",
    "deepnote_cell_type": "markdown",
    "tags": []
   },
   "source": []
  },
  {
   "cell_type": "markdown",
   "metadata": {
    "cell_id": "00013-7727d947-dd25-4c09-bda2-70182a766e34",
    "deepnote_cell_type": "markdown",
    "tags": []
   },
   "source": [
    "## K-Nearest-Neighbors (Pauline)"
   ]
  },
  {
   "cell_type": "markdown",
   "metadata": {
    "cell_id": "00014-53ab4bc6-2735-4f53-b35c-197468fc2d04",
    "deepnote_cell_type": "markdown",
    "tags": []
   },
   "source": [
    "Producing a k-Nearest-Neighbords model with various k values. Evaluating the performance of the model with a classification report. "
   ]
  },
  {
   "cell_type": "code",
   "execution_count": 12,
   "metadata": {
    "scrolled": false
   },
   "outputs": [
    {
     "data": {
      "text/html": [
       "<div>\n",
       "<style scoped>\n",
       "    .dataframe tbody tr th:only-of-type {\n",
       "        vertical-align: middle;\n",
       "    }\n",
       "\n",
       "    .dataframe tbody tr th {\n",
       "        vertical-align: top;\n",
       "    }\n",
       "\n",
       "    .dataframe thead th {\n",
       "        text-align: right;\n",
       "    }\n",
       "</style>\n",
       "<table border=\"1\" class=\"dataframe\">\n",
       "  <thead>\n",
       "    <tr style=\"text-align: right;\">\n",
       "      <th></th>\n",
       "      <th>K Values</th>\n",
       "      <th>Scores</th>\n",
       "    </tr>\n",
       "  </thead>\n",
       "  <tbody>\n",
       "    <tr>\n",
       "      <th>2</th>\n",
       "      <td>5</td>\n",
       "      <td>94.117647</td>\n",
       "    </tr>\n",
       "    <tr>\n",
       "      <th>0</th>\n",
       "      <td>1</td>\n",
       "      <td>91.911765</td>\n",
       "    </tr>\n",
       "    <tr>\n",
       "      <th>1</th>\n",
       "      <td>3</td>\n",
       "      <td>91.911765</td>\n",
       "    </tr>\n",
       "    <tr>\n",
       "      <th>3</th>\n",
       "      <td>10</td>\n",
       "      <td>91.176471</td>\n",
       "    </tr>\n",
       "    <tr>\n",
       "      <th>4</th>\n",
       "      <td>25</td>\n",
       "      <td>90.441176</td>\n",
       "    </tr>\n",
       "    <tr>\n",
       "      <th>5</th>\n",
       "      <td>50</td>\n",
       "      <td>85.294118</td>\n",
       "    </tr>\n",
       "    <tr>\n",
       "      <th>6</th>\n",
       "      <td>75</td>\n",
       "      <td>73.529412</td>\n",
       "    </tr>\n",
       "    <tr>\n",
       "      <th>7</th>\n",
       "      <td>100</td>\n",
       "      <td>63.235294</td>\n",
       "    </tr>\n",
       "  </tbody>\n",
       "</table>\n",
       "</div>"
      ],
      "text/plain": [
       "   K Values     Scores\n",
       "2         5  94.117647\n",
       "0         1  91.911765\n",
       "1         3  91.911765\n",
       "3        10  91.176471\n",
       "4        25  90.441176\n",
       "5        50  85.294118\n",
       "6        75  73.529412\n",
       "7       100  63.235294"
      ]
     },
     "execution_count": 12,
     "metadata": {},
     "output_type": "execute_result"
    }
   ],
   "source": [
    "k_values = [1,3,5,10, 25, 50, 75, 100]\n",
    "\n",
    "#add scores for each k_value\n",
    "scores = []\n",
    "for k in k_values:\n",
    "    model = KNeighborsClassifier(n_neighbors =k)\n",
    "    model.fit(train_data, train_labels)\n",
    "    score = model.score(dev_data, dev_labels)\n",
    "    scores.append(score)\n",
    "percent = (np.array(scores)*100)\n",
    "\n",
    "#go through each k_value to fit the model\n",
    "test_predicted_labels = []\n",
    "for k in k_values:\n",
    "    model = KNeighborsClassifier(n_neighbors =k)\n",
    "    model.fit(train_data, train_labels)\n",
    "    test_predicted_labels.append(model.predict(dev_data))\n",
    "\n",
    "#creating a table to easily visualize K value to corresponding score\n",
    "kdf = {'K Values': k_values, 'Scores': percent}\n",
    "kdft = pd.DataFrame(kdf, columns = ['K Values', 'Scores'])\n",
    "#sorting the table by highest scores\n",
    "kdft.sort_values(by = 'Scores', ascending=False)"
   ]
  },
  {
   "cell_type": "code",
   "execution_count": 13,
   "metadata": {},
   "outputs": [
    {
     "name": "stdout",
     "output_type": "stream",
     "text": [
      "              precision    recall  f1-score   support\n",
      "\n",
      "     class_b       1.00      0.50      0.67         8\n",
      "     class_c       0.90      0.96      0.93        48\n",
      "     class_d       0.93      0.96      0.94        26\n",
      "     class_e       1.00      1.00      1.00        21\n",
      "     class_f       0.95      1.00      0.97        18\n",
      "     class_g       1.00      0.93      0.97        15\n",
      "\n",
      "    accuracy                           0.94       136\n",
      "   macro avg       0.96      0.89      0.91       136\n",
      "weighted avg       0.94      0.94      0.94       136\n",
      "\n"
     ]
    }
   ],
   "source": [
    "#create classifcation report for 5-Nearest Neighbor (the one that produced the highest score)\n",
    "model1 = KNeighborsClassifier(n_neighbors =5)\n",
    "model1.fit(train_data, train_labels)\n",
    "print(classification_report(dev_labels, model1.predict(dev_data)))\n"
   ]
  },
  {
   "cell_type": "code",
   "execution_count": 18,
   "metadata": {
    "scrolled": true
   },
   "outputs": [
    {
     "data": {
      "image/png": "[encoded data removed]",
      "text/plain": [
       "<Figure size 432x288 with 1 Axes>"
      ]
     },
     "metadata": {
      "needs_background": "light"
     },
     "output_type": "display_data"
    }
   ],
   "source": [
    "#Bar plot to further visualize the K Value and corresponding scores\n",
    "width = 0.5\n",
    "fig = plt.figure()\n",
    "ax = fig.add_axes([0,0,1,1])\n",
    "percent = np.array(scores) * 100\n",
    "ax.bar(k_values, percent, color=('blue','blue', 'cyan','blue','blue','blue', 'blue'))\n",
    "ax.set_ylabel('Accuracy')\n",
    "ax.set_xlabel('K Value')\n",
    "ax.set_title('Accuracy by K Value')\n",
    "plt.show()"
   ]
  },
  {
   "cell_type": "markdown",
   "metadata": {},
   "source": [
    "The K-Nearest Neighbor value of 5 produces the highest score of 94.1%"
   ]
  },
  {
   "cell_type": "markdown",
   "metadata": {},
   "source": [
    "## K Means (Pauline)"
   ]
  },
  {
   "cell_type": "code",
   "execution_count": 53,
   "metadata": {},
   "outputs": [
    {
     "data": {
      "text/plain": [
       "(681, 178)"
      ]
     },
     "execution_count": 53,
     "metadata": {},
     "output_type": "execute_result"
    }
   ],
   "source": [
    "X.shape"
   ]
  },
  {
   "cell_type": "code",
   "execution_count": 19,
   "metadata": {},
   "outputs": [],
   "source": [
    "#array of different clusters for kmeans\n",
    "n_clusters = [1, 3, 5, 7, 10]\n",
    "random_state = 10"
   ]
  },
  {
   "cell_type": "code",
   "execution_count": 41,
   "metadata": {},
   "outputs": [],
   "source": [
    "#create model with 7 clusters \n",
    "#because there are 7 different size categories of the fire \n",
    "kmeans = KMeans(n_clusters = 7, random_state = random_state)\n",
    "\n",
    "#fit the model \n",
    "kmeans.fit(train_data)\n",
    "\n",
    "# predict cluster\n",
    "clusters = kmeans.predict(train_data)\n",
    "\n",
    "#centroids \n",
    "centroids = km_model.cluster_centers_"
   ]
  },
  {
   "cell_type": "code",
   "execution_count": 51,
   "metadata": {},
   "outputs": [
    {
     "data": {
      "image/png": "[encoded data removed]",
      "text/plain": [
       "<Figure size 720x432 with 1 Axes>"
      ]
     },
     "metadata": {
      "needs_background": "light"
     },
     "output_type": "display_data"
    }
   ],
   "source": [
    "#making kmeans for 7 clusters\n",
    "kmeans = KMeans(n_clusters=7)\n",
    "kmeans.fit(train_data)\n",
    "ymeans = kmeans.predict(train_data)\n",
    "fig, ax = plt.subplots(1, figsize=(10, 6))\n",
    "\n",
    "#creating an array to find x values of centroids \n",
    "centers = kmeans.cluster_centers_\n",
    "x_centers = []\n",
    "for i in range(0,7):\n",
    "    x = centers[i][0]\n",
    "    x_centers.append(x)\n",
    "#creating an array to find y values of centroids \n",
    "y_centers = []\n",
    "for i in range(0,7):\n",
    "    y = centers[i][1]\n",
    "    y_centers.append(y)\n",
    "\n",
    "#plotting the centers of the clusters \n",
    "ax.scatter(x_centers, y_centers, color = 'black')\n",
    "\n",
    "#creating circles for each cluster \n",
    "for i in range(7):\n",
    "    radii = cdist(train_data[kmeans.labels_ == i],\n",
    "                  [kmeans.cluster_centers_[i]]).max()\n",
    "    ax.add_patch(plt.Circle(kmeans.cluster_centers_[i], radii, \n",
    "                        fc='#CCCCCC', lw=3, alpha=0.5, ec = 'black', fill=False))\n",
    "plt.show()"
   ]
  },
  {
   "cell_type": "markdown",
   "metadata": {
    "cell_id": "00015-3fdd9926-a8a8-41fb-978a-3610dda1fd22",
    "deepnote_cell_type": "markdown",
    "tags": []
   },
   "source": [
    "## Gaussian and PCA (Hannah)"
   ]
  },
  {
   "cell_type": "markdown",
   "metadata": {
    "cell_id": "00017-0869c7e7-515d-4215-a97b-0025368939a5",
    "deepnote_cell_type": "markdown",
    "tags": []
   },
   "source": [
    "## Logistic Regression (Cisco)"
   ]
  },
  {
   "cell_type": "markdown",
   "metadata": {
    "cell_id": "00018-03704ac7-7648-4ec8-9cb9-9725ee3848ec",
    "deepnote_cell_type": "markdown",
    "tags": []
   },
   "source": []
  },
  {
   "cell_type": "markdown",
   "metadata": {
    "cell_id": "00018-25df6ac1-359a-4e79-9eab-1e7f654db886",
    "deepnote_cell_type": "markdown",
    "tags": []
   },
   "source": [
    "## Linear Regression (Josh) "
   ]
  },
  {
   "cell_type": "markdown",
   "metadata": {
    "cell_id": "00019-95fab07f-93e8-44d8-8f70-4a5e35b43cc6",
    "deepnote_cell_type": "markdown",
    "tags": []
   },
   "source": []
  }
 ],
 "metadata": {
  "deepnote_execution_queue": [],
  "deepnote_notebook_id": "30439612-25d1-4cfd-a693-fe0b9669fb6c",
  "kernelspec": {
   "display_name": "Python 3",
   "language": "python",
   "name": "python3"
  },
  "language_info": {
   "codemirror_mode": {
    "name": "ipython",
    "version": 3
   },
   "file_extension": ".py",
   "mimetype": "text/x-python",
   "name": "python",
   "nbconvert_exporter": "python",
   "pygments_lexer": "ipython3",
   "version": "3.8.3"
  }
 },
 "nbformat": 4,
 "nbformat_minor": 2
}
